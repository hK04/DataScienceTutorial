{
 "cells": [
  {
   "cell_type": "code",
   "execution_count": 2,
   "id": "951c9c5f",
   "metadata": {},
   "outputs": [],
   "source": [
    "import pandas as pd\n",
    "import numpy as np"
   ]
  },
  {
   "cell_type": "markdown",
   "id": "11081e8b",
   "metadata": {},
   "source": [
    "## pd.Series\n",
    "Seriest is one-dimensional labeled array capable of holding data of any type. Initiation of Series looks like \n",
    "```\n",
    "class pandas.Series(data=None, index=None, dtype=None, name=None, copy=False, fastpath=False)\n",
    "```"
   ]
  },
  {
   "cell_type": "code",
   "execution_count": 12,
   "id": "8fe5e0af",
   "metadata": {},
   "outputs": [
    {
     "name": "stdout",
     "output_type": "stream",
     "text": [
      "0    1.0\n",
      "1    3.0\n",
      "2    5.0\n",
      "3    NaN\n",
      "4    6.0\n",
      "5    8.0\n",
      "dtype: float64\n"
     ]
    }
   ],
   "source": [
    "some_list = [1, 3, 5, np.nan, 6, 8]; #np.nan is not taken in all computations. Also its necessary to mention that nan in float type\n",
    "series_1 = pd.Series(data = some_list);\n",
    "print(series_1);"
   ]
  },
  {
   "cell_type": "code",
   "execution_count": 15,
   "id": "a66d816a",
   "metadata": {},
   "outputs": [
    {
     "name": "stdout",
     "output_type": "stream",
     "text": [
      "1st day    1.0\n",
      "2nd day    3.0\n",
      "3rd day    5.0\n",
      "4th day    NaN\n",
      "5th day    6.0\n",
      "6th day    8.0\n",
      "Name: Temperature, dtype: float64\n"
     ]
    }
   ],
   "source": [
    "ind = [\"1st day\", \"2nd day\", \"3rd day\", \"4th day\", \"5th day\", \"6th day\"];\n",
    "\n",
    "series_2 = pd.Series(data = some_list, name = \"Temperature\", index = ind);\n",
    "print(series_2);"
   ]
  },
  {
   "cell_type": "code",
   "execution_count": 11,
   "id": "6b7c2e48",
   "metadata": {},
   "outputs": [
    {
     "name": "stdout",
     "output_type": "stream",
     "text": [
      "nan\n"
     ]
    }
   ],
   "source": [
    "print(series_2['4th day']);"
   ]
  },
  {
   "cell_type": "code",
   "execution_count": 24,
   "id": "3793463f",
   "metadata": {},
   "outputs": [
    {
     "name": "stdout",
     "output_type": "stream",
     "text": [
      "1.0 \n",
      "\n",
      "2nd day    3.0\n",
      "3rd day    5.0\n",
      "Name: Temperature, dtype: float64 \n",
      "\n",
      "6th day    8.0\n",
      "5th day    6.0\n",
      "4th day    NaN\n",
      "3rd day    5.0\n",
      "2nd day    3.0\n",
      "1st day    1.0\n",
      "Name: Temperature, dtype: float64\n"
     ]
    }
   ],
   "source": [
    "#indexes work with the same syntax as lists or numpy arrays\n",
    "\n",
    "print(series_2[0], \"\\n\")\n",
    "print(series_2[1:3], \"\\n\")\n",
    "print(series_2[::-1])"
   ]
  },
  {
   "cell_type": "code",
   "execution_count": null,
   "id": "7b3489c4",
   "metadata": {},
   "outputs": [],
   "source": []
  }
 ],
 "metadata": {
  "kernelspec": {
   "display_name": "Python 3 (ipykernel)",
   "language": "python",
   "name": "python3"
  },
  "language_info": {
   "codemirror_mode": {
    "name": "ipython",
    "version": 3
   },
   "file_extension": ".py",
   "mimetype": "text/x-python",
   "name": "python",
   "nbconvert_exporter": "python",
   "pygments_lexer": "ipython3",
   "version": "3.10.4"
  }
 },
 "nbformat": 4,
 "nbformat_minor": 5
}
