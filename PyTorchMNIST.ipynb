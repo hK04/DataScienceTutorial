{
 "cells": [
  {
   "cell_type": "markdown",
   "metadata": {},
   "source": [
    "# 1. Setup of all libraries (follow straight order to not get errors!)"
   ]
  },
  {
   "cell_type": "code",
   "execution_count": 50,
   "metadata": {},
   "outputs": [],
   "source": [
    "from torchvision.datasets import MNIST\n",
    "from torchvision import transforms as tfs"
   ]
  },
  {
   "cell_type": "code",
   "execution_count": 51,
   "metadata": {},
   "outputs": [],
   "source": [
    "import torch\n",
    "import numpy as np\n",
    "import matplotlib.pyplot as plt\n",
    "from sklearn.metrics import accuracy_score"
   ]
  },
  {
   "cell_type": "code",
   "execution_count": 52,
   "metadata": {},
   "outputs": [],
   "source": [
    "from torch.utils.data    import DataLoader\n",
    "from torch.nn.functional import cross_entropy"
   ]
  },
  {
   "cell_type": "code",
   "execution_count": 53,
   "metadata": {},
   "outputs": [],
   "source": [
    "import torch.nn as nn\n",
    "from torchsummary import summary"
   ]
  },
  {
   "cell_type": "markdown",
   "metadata": {},
   "source": [
    "### 1.1 Device Config "
   ]
  },
  {
   "cell_type": "code",
   "execution_count": 54,
   "metadata": {},
   "outputs": [],
   "source": [
    "device = torch.device('cuda:0') if torch.cuda.is_available else torch.device('cpu')"
   ]
  },
  {
   "cell_type": "markdown",
   "metadata": {},
   "source": [
    "# 2. Get and transform data"
   ]
  },
  {
   "cell_type": "code",
   "execution_count": 55,
   "metadata": {},
   "outputs": [],
   "source": [
    "data_tfs = tfs.Compose([\n",
    "    tfs.ToTensor(),\n",
    "    tfs.Normalize((0.5), (0.5))\n",
    "])"
   ]
  },
  {
   "cell_type": "code",
   "execution_count": 56,
   "metadata": {},
   "outputs": [],
   "source": [
    "root = './'\n",
    "train = MNIST(root, train = True, transform = data_tfs, download = True)\n",
    "test = MNIST(root, train = False, transform = data_tfs, download = True)"
   ]
  },
  {
   "cell_type": "code",
   "execution_count": 57,
   "metadata": {},
   "outputs": [
    {
     "name": "stdout",
     "output_type": "stream",
     "text": [
      "Data size:\n",
      "\t train 60000,\n",
      "\t test 60000\n",
      "Data shape:\n",
      "\t train torch.Size([1, 28, 28]),\n",
      "\t test torch.Size([1, 28, 28])\n"
     ]
    }
   ],
   "source": [
    "print(f'Data size:\\n\\t train {len(train)},\\n\\t test {len(train)}')\n",
    "print(f'Data shape:\\n\\t train {train[0][0].shape},\\n\\t test {test[0][0].shape}')"
   ]
  },
  {
   "cell_type": "markdown",
   "metadata": {},
   "source": [
    "### 2.1 Create Batch"
   ]
  },
  {
   "cell_type": "code",
   "execution_count": 58,
   "metadata": {},
   "outputs": [],
   "source": [
    "batch_size = 128\n",
    "\n",
    "train_loader = DataLoader(train, batch_size = batch_size, drop_last = True)\n",
    "test_loader  = DataLoader(test,  batch_size = batch_size, drop_last = True)"
   ]
  },
  {
   "cell_type": "code",
   "execution_count": 59,
   "metadata": {},
   "outputs": [
    {
     "data": {
      "text/plain": [
       "(torch.Size([128, 1, 28, 28]), torch.Size([128]))"
      ]
     },
     "execution_count": 59,
     "metadata": {},
     "output_type": "execute_result"
    }
   ],
   "source": [
    "x_batch, y_batch = next(iter(train_loader))\n",
    "x_batch.shape, y_batch.shape"
   ]
  },
  {
   "cell_type": "markdown",
   "metadata": {},
   "source": [
    "# 3. Set up the first model\n",
    "\n",
    "Fitting the linear model:\n",
    "1. For every class computate his own weights `logits` \n",
    "2. Use `softmax` on every `logits` to get probability\n",
    "3. Learning with `sgd` based on `cross-entropy` function of losses"
   ]
  },
  {
   "cell_type": "code",
   "execution_count": 60,
   "metadata": {},
   "outputs": [],
   "source": [
    "features = 28 * 28\n",
    "classes  = 10"
   ]
  },
  {
   "cell_type": "code",
   "execution_count": 61,
   "metadata": {},
   "outputs": [],
   "source": [
    "epochs = 5\n",
    "lr      = 1e-2\n",
    "history = []"
   ]
  },
  {
   "cell_type": "code",
   "execution_count": 62,
   "metadata": {},
   "outputs": [
    {
     "data": {
      "text/plain": [
       "tensor([[ 0.0145,  0.0217, -0.0019,  ...,  0.0110, -0.0316,  0.0147],\n",
       "        [-0.0099,  0.0233,  0.0149,  ...,  0.0016, -0.0317, -0.0268],\n",
       "        [-0.0123,  0.0235, -0.0010,  ..., -0.0226,  0.0094, -0.0327],\n",
       "        ...,\n",
       "        [-0.0312,  0.0289,  0.0217,  ..., -0.0011, -0.0321, -0.0062],\n",
       "        [ 0.0224,  0.0009,  0.0134,  ..., -0.0127, -0.0332,  0.0350],\n",
       "        [ 0.0116, -0.0002,  0.0203,  ..., -0.0336,  0.0350, -0.0335]],\n",
       "       requires_grad=True)"
      ]
     },
     "execution_count": 62,
     "metadata": {},
     "output_type": "execute_result"
    }
   ],
   "source": [
    "#Initial weights \n",
    "w = torch.FloatTensor(features, classes).uniform_(-1, 1) / features**0.5\n",
    "w.requires_grad_()"
   ]
  },
  {
   "cell_type": "code",
   "execution_count": 63,
   "metadata": {},
   "outputs": [
    {
     "name": "stdout",
     "output_type": "stream",
     "text": [
      "1, \t loss: 0.1966225802898407\n",
      "2, \t loss: 0.14063414931297302\n",
      "3, \t loss: 0.12039943039417267\n",
      "4, \t loss: 0.10950277745723724\n",
      "5, \t loss: 0.1024676188826561\n"
     ]
    }
   ],
   "source": [
    "for i in range(epochs):\n",
    "    for x_batch, y_batch in train_loader:\n",
    "\n",
    "        x_batch = x_batch.reshape(x_batch.shape[0], -1)\n",
    "\n",
    "        logits         = x_batch @ w\n",
    "        probabilities  = torch.exp(logits) / torch.exp(logits).sum(dim = 1, keepdim = True)\n",
    "\n",
    "        loss = -torch.log(probabilities[range(batch_size), y_batch]).mean()\n",
    "        history.append(loss.item())\n",
    "        loss.backward() #computates gradients \n",
    "\n",
    "        grad = w.grad\n",
    "        with torch.no_grad():\n",
    "            w -= lr * grad\n",
    "        w.grad.zero_()\n",
    "    print(f'{i+1}, \\t loss: {history[-1]}')"
   ]
  },
  {
   "cell_type": "code",
   "execution_count": 64,
   "metadata": {},
   "outputs": [
    {
     "data": {
      "image/png": "[encoded data removed]",
      "text/plain": [
       "<Figure size 720x504 with 1 Axes>"
      ]
     },
     "metadata": {
      "needs_background": "light"
     },
     "output_type": "display_data"
    }
   ],
   "source": [
    "plt.figure(figsize  = (10, 7))\n",
    "plt.plot(history)\n",
    "plt.title('Loss by batch iteration')\n",
    "plt.ylabel('Entropy')\n",
    "plt.xlabel('Iteration')\n",
    "plt.grid(alpha = 0.2)\n",
    "plt.show()"
   ]
  },
  {
   "cell_type": "code",
   "execution_count": 65,
   "metadata": {},
   "outputs": [
    {
     "name": "stdout",
     "output_type": "stream",
     "text": [
      "Test accuracy 0.907\n"
     ]
    }
   ],
   "source": [
    "acc = 0\n",
    "batches = 0\n",
    "\n",
    "for x_batch, y_batch in test_loader:\n",
    "    batches += 1\n",
    "\n",
    "    x_batch = x_batch.view(x_batch.shape[0], -1)\n",
    "    y_batch = y_batch\n",
    "\n",
    "    preds = torch.argmax(x_batch @ w, dim = 1)\n",
    "    acc += (preds == y_batch).cpu().numpy().mean()\n",
    "\n",
    "print(f'Test accuracy {acc / batches:.3}')"
   ]
  },
  {
   "cell_type": "markdown",
   "metadata": {},
   "source": [
    "# 4. Set up of second, more complicated model"
   ]
  },
  {
   "cell_type": "markdown",
   "metadata": {},
   "source": [
    "Chosing the model\n",
    "\n",
    "`nn.Linear`\n",
    "\n",
    "`nn.Softmax`, `nn.LogSoftmax`\n",
    "\n",
    "`nn.ReLU`, `nn.ELU`, `nn.LeakyReLU`\n",
    "\n",
    "`nn.Tanh`, `nn.Sigmoid`\n",
    "\n",
    "`nn.LSTM`, `nn.GRU`\n",
    "\n",
    "`nn.Conv1d`, `nn.Conv2d`\n",
    "\n",
    "`nn.MaxPool1d`, `nn.AdaptiveMaxPool1d` and others pooling\n",
    "\n",
    "`nn.BatchNorm1d`, `nn.BatchNorm2d`\n",
    "\n",
    "`nn.Dropout`\n",
    "\n",
    "losses: `nn.CrossEntropyLoss`, `nn.NLLLoss`, `nn.MSELoss`\n",
    "etc"
   ]
  },
  {
   "cell_type": "code",
   "execution_count": 67,
   "metadata": {},
   "outputs": [
    {
     "data": {
      "text/plain": [
       "Sequential(\n",
       "  (0): Linear(in_features=784, out_features=64, bias=True)\n",
       "  (1): ReLU()\n",
       "  (2): Linear(in_features=64, out_features=10, bias=True)\n",
       ")"
      ]
     },
     "execution_count": 67,
     "metadata": {},
     "output_type": "execute_result"
    }
   ],
   "source": [
    "model = nn.Sequential(\n",
    "    nn.Linear(features, 64),\n",
    "    nn.ReLU(),\n",
    "    nn.Linear(64, classes)\n",
    ")\n",
    "\n",
    "# It is the same as:\n",
    "# model = nn.Sequential()\n",
    "# model.add_module('0', nn.Linear(features, 64))\n",
    "# model.add_module('1', nn.Linear(64, classes))\n",
    "\n",
    "model.to(device)"
   ]
  },
  {
   "cell_type": "code",
   "execution_count": 69,
   "metadata": {},
   "outputs": [
    {
     "name": "stdout",
     "output_type": "stream",
     "text": [
      "----------------------------------------------------------------\n",
      "        Layer (type)               Output Shape         Param #\n",
      "================================================================\n",
      "            Linear-1                  [228, 64]          50,240\n",
      "              ReLU-2                  [228, 64]               0\n",
      "            Linear-3                  [228, 10]             650\n",
      "================================================================\n",
      "Total params: 50,890\n",
      "Trainable params: 50,890\n",
      "Non-trainable params: 0\n",
      "----------------------------------------------------------------\n",
      "Input size (MB): 0.68\n",
      "Forward/backward pass size (MB): 0.24\n",
      "Params size (MB): 0.19\n",
      "Estimated Total Size (MB): 1.12\n",
      "----------------------------------------------------------------\n"
     ]
    }
   ],
   "source": [
    "summary(model, (features,), batch_size = 228) #to check if everything is ok"
   ]
  },
  {
   "cell_type": "markdown",
   "metadata": {},
   "source": [
    "Ideas for optimizer\n",
    "\n",
    "`torch.optim.Adam` - [paper] (https://arxiv.org/abs/1412.6980)\n",
    "\n",
    "`torch.optim.SGD` - casual SGD\n",
    "\n",
    "`torch.optim.Adagrad` - [article] (https://jmlr.org/papers/v12/duchi11a.html)\n",
    "\n",
    "`torch.optim.RMSprop` - [slides] (https://www.cs.toronto.edu/~tijmen/csc321/slides/lecture_slides_lec6.pdf)"
   ]
  },
  {
   "cell_type": "code",
   "execution_count": 70,
   "metadata": {},
   "outputs": [],
   "source": [
    "criteria  = nn.CrossEntropyLoss() #(logsoftmax + negative likelihood)\n",
    "optimizer = torch.optim.Adam(model.parameters(), lr = 1e-3, betas = (0.9, 0.99))"
   ]
  },
  {
   "cell_type": "code",
   "execution_count": 71,
   "metadata": {},
   "outputs": [],
   "source": [
    "epochs = 3\n",
    "history = []"
   ]
  },
  {
   "cell_type": "code",
   "execution_count": 76,
   "metadata": {},
   "outputs": [
    {
     "name": "stdout",
     "output_type": "stream",
     "text": [
      "1, \t loss: 0.03192576393485069\n",
      "2, \t loss: 0.025674520060420036\n",
      "3, \t loss: 0.02014310471713543\n"
     ]
    }
   ],
   "source": [
    "for i in range(epochs):\n",
    "    for x_batch, y_batch in train_loader:\n",
    "\n",
    "        x_batch = x_batch.view(x_batch.shape[0], -1).to(device)\n",
    "        y_batch = y_batch.to(device)\n",
    "\n",
    "        logits = model(x_batch)\n",
    "\n",
    "        loss = criteria(logits, y_batch)\n",
    "        history.append(loss.item())\n",
    "\n",
    "        optimizer.zero_grad()\n",
    "        loss.backward()\n",
    "\n",
    "        optimizer.step()\n",
    "    print(f'{i+1}, \\t loss: {history[-1]}')"
   ]
  },
  {
   "cell_type": "code",
   "execution_count": 79,
   "metadata": {},
   "outputs": [
    {
     "data": {
      "image/png": "[encoded data removed]",
      "text/plain": [
       "<Figure size 720x504 with 1 Axes>"
      ]
     },
     "metadata": {
      "needs_background": "light"
     },
     "output_type": "display_data"
    }
   ],
   "source": [
    "plt.figure(figsize = (10, 7))\n",
    "plt.plot(history)\n",
    "plt.title('Loss during the iterations')\n",
    "plt.xlabel('Iteration')\n",
    "plt.ylabel('Entropy')\n",
    "plt.grid(alpha = 0.2)\n",
    "plt.show()"
   ]
  },
  {
   "cell_type": "code",
   "execution_count": 81,
   "metadata": {},
   "outputs": [
    {
     "name": "stdout",
     "output_type": "stream",
     "text": [
      "Accuracy score is 0.959\n"
     ]
    }
   ],
   "source": [
    "acc     = 0\n",
    "batches = 0\n",
    "\n",
    "for x_batch, y_batch in test_loader:\n",
    "    batches += 1\n",
    "\n",
    "    x_batch = x_batch.view(x_batch.shape[0], -1).to(device)\n",
    "    y_batch = y_batch.to(device)\n",
    "\n",
    "    preds = torch.argmax(model(x_batch), dim = 1)\n",
    "    acc   += (preds == y_batch).cpu().numpy().mean()\n",
    "\n",
    "print(f'Accuracy score is {acc / batches:.3}')\n"
   ]
  },
  {
   "cell_type": "markdown",
   "metadata": {},
   "source": [
    "Our two-layers Neural Network (without Softmax) gave us worse results than usual SGD Linear Regression model"
   ]
  }
 ],
 "metadata": {
  "kernelspec": {
   "display_name": "Python 3.10.4 64-bit",
   "language": "python",
   "name": "python3"
  },
  "language_info": {
   "codemirror_mode": {
    "name": "ipython",
    "version": 3
   },
   "file_extension": ".py",
   "mimetype": "text/x-python",
   "name": "python",
   "nbconvert_exporter": "python",
   "pygments_lexer": "ipython3",
   "version": "3.10.4"
  },
  "orig_nbformat": 4,
  "vscode": {
   "interpreter": {
    "hash": "916dbcbb3f70747c44a77c7bcd40155683ae19c65e1c03b4aa3499c5328201f1"
   }
  }
 },
 "nbformat": 4,
 "nbformat_minor": 2
}
