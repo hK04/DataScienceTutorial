{
 "cells": [
  {
   "cell_type": "code",
   "execution_count": 1,
   "id": "45545624",
   "metadata": {},
   "outputs": [],
   "source": [
    "import numpy as np"
   ]
  },
  {
   "cell_type": "code",
   "execution_count": 26,
   "id": "9e4cc9be",
   "metadata": {},
   "outputs": [
    {
     "name": "stdout",
     "output_type": "stream",
     "text": [
      "[1 2 3]\n",
      "\n",
      "\n",
      "[[1 1]\n",
      " [2 2]]\n"
     ]
    }
   ],
   "source": [
    "#let's build up an array \n",
    "#from here and below i'll use semicolons only in order to not forget to use them in C++ code \n",
    "\n",
    "arr = np.array((1, 2, 3));\n",
    "arr_ = np.array(((1, 1), (2, 2)));\n",
    "\n",
    "print(arr);\n",
    "print(\"\\n\");\n",
    "print(arr_);"
   ]
  },
  {
   "cell_type": "code",
   "execution_count": 18,
   "id": "c0aae766",
   "metadata": {},
   "outputs": [
    {
     "name": "stdout",
     "output_type": "stream",
     "text": [
      "int64\n",
      "(3,)\n",
      "24\n"
     ]
    }
   ],
   "source": [
    "#let's get the type of an array's elements \n",
    "print(arr.dtype); \n",
    "#other properties of array:\n",
    "# shape -> \n",
    "print(arr.shape);\n",
    "# nbytes -> \n",
    "print(arr.nbytes);"
   ]
  },
  {
   "cell_type": "code",
   "execution_count": 37,
   "id": "b19d071c",
   "metadata": {},
   "outputs": [
    {
     "name": "stdout",
     "output_type": "stream",
     "text": [
      "[1 3 5 7 9]\n",
      "[0. 0. 0. 0. 0. 0. 0.]\n",
      "[1. 1. 1. 1. 1. 1. 1.]\n",
      "[ 0.          1.11111111  2.22222222  3.33333333  4.44444444  5.55555556\n",
      "  6.66666667  7.77777778  8.88888889 10.        ]\n",
      "[   1.            5.62341325   31.6227766   177.827941   1000.        ]\n"
     ]
    }
   ],
   "source": [
    "#let's fill arrays with some sort of data \n",
    "\n",
    "arr1 = np.arange(1, 10, 2); #from, to, step \n",
    "print(arr1);\n",
    "\n",
    "arr2 = np.zeros(7); #num of elements \n",
    "print(arr2);\n",
    "\n",
    "arr3 = np.ones(7); #num of elements \n",
    "print(arr3)\n",
    "\n",
    "arr4 = np.linspace(0, 10, 10); #kind a great way to do an interpolation #from, to, num of elements \n",
    "print(arr4);\n",
    "\n",
    "arr5 = np.logspace(0, 3, 5); #from, to, num of elements \n",
    "print(arr5);"
   ]
  },
  {
   "cell_type": "code",
   "execution_count": 46,
   "id": "2cae2a2d",
   "metadata": {},
   "outputs": [
    {
     "name": "stdout",
     "output_type": "stream",
     "text": [
      "[3 3 3]\n",
      "[-1 -1 -1]\n",
      "[2 2 2]\n",
      "[0.5 0.5 0.5]\n"
     ]
    }
   ],
   "source": [
    "#operation via arrays (or operation with const and array)\n",
    "\n",
    "arr1 = np.array((1, 1, 1));\n",
    "arr2 = np.array((2, 2, 2));\n",
    "\n",
    "#sum \n",
    "print(arr1 + arr2); #each a[i] + b[i] \n",
    "#substraction \n",
    "print(arr1 - arr2); #each a[i] - b[i] \n",
    "#multiplication \n",
    "print(arr1 * arr2); #each a[i] * b[i] \n",
    "#division\n",
    "print(arr1 / arr2); #each a[i] / b[i] "
   ]
  },
  {
   "cell_type": "code",
   "execution_count": 55,
   "id": "9795be7a",
   "metadata": {},
   "outputs": [
    {
     "name": "stdout",
     "output_type": "stream",
     "text": [
      "[0.54030231 0.54030231 0.54030231]\n",
      "[False False False]\n"
     ]
    }
   ],
   "source": [
    "#also it's possible to use function for each element of array\n",
    "\n",
    "print(np.cos(arr1)); #each cos(a[i])\n",
    "#other functions:\n",
    "#sin\n",
    "#log\n",
    "\n",
    "#usage of true/false sentences \n",
    "print(arr1 > arr2);"
   ]
  },
  {
   "cell_type": "code",
   "execution_count": 58,
   "id": "d83d8526",
   "metadata": {},
   "outputs": [
    {
     "name": "stdout",
     "output_type": "stream",
     "text": [
      "False\n",
      "False\n"
     ]
    }
   ],
   "source": [
    "#∀ \n",
    "print(np.all(arr1 > arr2));\n",
    "\n",
    "\n",
    "#∃\n",
    "print(np.any(arr1 > arr2));"
   ]
  },
  {
   "cell_type": "code",
   "execution_count": null,
   "id": "7981b22b",
   "metadata": {},
   "outputs": [],
   "source": []
  }
 ],
 "metadata": {
  "kernelspec": {
   "display_name": "Python 3 (ipykernel)",
   "language": "python",
   "name": "python3"
  },
  "language_info": {
   "codemirror_mode": {
    "name": "ipython",
    "version": 3
   },
   "file_extension": ".py",
   "mimetype": "text/x-python",
   "name": "python",
   "nbconvert_exporter": "python",
   "pygments_lexer": "ipython3",
   "version": "3.10.4"
  }
 },
 "nbformat": 4,
 "nbformat_minor": 5
}
