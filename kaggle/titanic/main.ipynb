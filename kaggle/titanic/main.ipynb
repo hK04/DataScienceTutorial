{
 "cells": [
  {
   "cell_type": "markdown",
   "id": "736451a4",
   "metadata": {
    "papermill": {
     "duration": 0.013316,
     "end_time": "2022-08-10T17:39:22.960981",
     "exception": false,
     "start_time": "2022-08-10T17:39:22.947665",
     "status": "completed"
    },
    "tags": []
   },
   "source": [
    "# Titanic Logistic Regression (with Regularization and SGD)\n",
    "##### 1. Import all necessary libraries "
   ]
  },
  {
   "cell_type": "code",
   "execution_count": 1,
   "id": "f78356c2",
   "metadata": {
    "execution": {
     "iopub.execute_input": "2022-08-10T17:39:22.986759Z",
     "iopub.status.busy": "2022-08-10T17:39:22.985748Z",
     "iopub.status.idle": "2022-08-10T17:39:24.501717Z",
     "shell.execute_reply": "2022-08-10T17:39:24.500606Z"
    },
    "papermill": {
     "duration": 1.532905,
     "end_time": "2022-08-10T17:39:24.505149",
     "exception": false,
     "start_time": "2022-08-10T17:39:22.972244",
     "status": "completed"
    },
    "tags": []
   },
   "outputs": [],
   "source": [
    "import numpy as np\n",
    "import pandas as pd\n",
    "import seaborn as sns\n",
    "from matplotlib import pyplot as plt"
   ]
  },
  {
   "cell_type": "markdown",
   "id": "2a85ef54",
   "metadata": {
    "papermill": {
     "duration": 0.011266,
     "end_time": "2022-08-10T17:39:24.534050",
     "exception": false,
     "start_time": "2022-08-10T17:39:24.522784",
     "status": "completed"
    },
    "tags": []
   },
   "source": [
    "##### 2. Read csv and prepare data for Model "
   ]
  },
  {
   "cell_type": "code",
   "execution_count": 2,
   "id": "b999f659",
   "metadata": {
    "execution": {
     "iopub.execute_input": "2022-08-10T17:39:24.560472Z",
     "iopub.status.busy": "2022-08-10T17:39:24.558847Z",
     "iopub.status.idle": "2022-08-10T17:39:24.594271Z",
     "shell.execute_reply": "2022-08-10T17:39:24.592232Z"
    },
    "papermill": {
     "duration": 0.055166,
     "end_time": "2022-08-10T17:39:24.600345",
     "exception": false,
     "start_time": "2022-08-10T17:39:24.545179",
     "status": "completed"
    },
    "tags": []
   },
   "outputs": [],
   "source": [
    "#read csv\n",
    "titanic_test = pd.read_csv(\"../input/titanic/train.csv\", index_col='PassengerId')"
   ]
  },
  {
   "cell_type": "code",
   "execution_count": 3,
   "id": "8f248f58",
   "metadata": {
    "execution": {
     "iopub.execute_input": "2022-08-10T17:39:24.632144Z",
     "iopub.status.busy": "2022-08-10T17:39:24.629882Z",
     "iopub.status.idle": "2022-08-10T17:39:24.667366Z",
     "shell.execute_reply": "2022-08-10T17:39:24.666010Z"
    },
    "papermill": {
     "duration": 0.054447,
     "end_time": "2022-08-10T17:39:24.671082",
     "exception": false,
     "start_time": "2022-08-10T17:39:24.616635",
     "status": "completed"
    },
    "tags": []
   },
   "outputs": [
    {
     "data": {
      "text/html": [
       "<div>\n",
       "<style scoped>\n",
       "    .dataframe tbody tr th:only-of-type {\n",
       "        vertical-align: middle;\n",
       "    }\n",
       "\n",
       "    .dataframe tbody tr th {\n",
       "        vertical-align: top;\n",
       "    }\n",
       "\n",
       "    .dataframe thead th {\n",
       "        text-align: right;\n",
       "    }\n",
       "</style>\n",
       "<table border=\"1\" class=\"dataframe\">\n",
       "  <thead>\n",
       "    <tr style=\"text-align: right;\">\n",
       "      <th></th>\n",
       "      <th>Survived</th>\n",
       "      <th>Pclass</th>\n",
       "      <th>Name</th>\n",
       "      <th>Sex</th>\n",
       "      <th>Age</th>\n",
       "      <th>SibSp</th>\n",
       "      <th>Parch</th>\n",
       "      <th>Ticket</th>\n",
       "      <th>Fare</th>\n",
       "      <th>Cabin</th>\n",
       "      <th>Embarked</th>\n",
       "    </tr>\n",
       "    <tr>\n",
       "      <th>PassengerId</th>\n",
       "      <th></th>\n",
       "      <th></th>\n",
       "      <th></th>\n",
       "      <th></th>\n",
       "      <th></th>\n",
       "      <th></th>\n",
       "      <th></th>\n",
       "      <th></th>\n",
       "      <th></th>\n",
       "      <th></th>\n",
       "      <th></th>\n",
       "    </tr>\n",
       "  </thead>\n",
       "  <tbody>\n",
       "    <tr>\n",
       "      <th>1</th>\n",
       "      <td>0</td>\n",
       "      <td>3</td>\n",
       "      <td>Braund, Mr. Owen Harris</td>\n",
       "      <td>male</td>\n",
       "      <td>22.0</td>\n",
       "      <td>1</td>\n",
       "      <td>0</td>\n",
       "      <td>A/5 21171</td>\n",
       "      <td>7.2500</td>\n",
       "      <td>NaN</td>\n",
       "      <td>S</td>\n",
       "    </tr>\n",
       "    <tr>\n",
       "      <th>2</th>\n",
       "      <td>1</td>\n",
       "      <td>1</td>\n",
       "      <td>Cumings, Mrs. John Bradley (Florence Briggs Th...</td>\n",
       "      <td>female</td>\n",
       "      <td>38.0</td>\n",
       "      <td>1</td>\n",
       "      <td>0</td>\n",
       "      <td>PC 17599</td>\n",
       "      <td>71.2833</td>\n",
       "      <td>C85</td>\n",
       "      <td>C</td>\n",
       "    </tr>\n",
       "    <tr>\n",
       "      <th>3</th>\n",
       "      <td>1</td>\n",
       "      <td>3</td>\n",
       "      <td>Heikkinen, Miss. Laina</td>\n",
       "      <td>female</td>\n",
       "      <td>26.0</td>\n",
       "      <td>0</td>\n",
       "      <td>0</td>\n",
       "      <td>STON/O2. 3101282</td>\n",
       "      <td>7.9250</td>\n",
       "      <td>NaN</td>\n",
       "      <td>S</td>\n",
       "    </tr>\n",
       "    <tr>\n",
       "      <th>4</th>\n",
       "      <td>1</td>\n",
       "      <td>1</td>\n",
       "      <td>Futrelle, Mrs. Jacques Heath (Lily May Peel)</td>\n",
       "      <td>female</td>\n",
       "      <td>35.0</td>\n",
       "      <td>1</td>\n",
       "      <td>0</td>\n",
       "      <td>113803</td>\n",
       "      <td>53.1000</td>\n",
       "      <td>C123</td>\n",
       "      <td>S</td>\n",
       "    </tr>\n",
       "    <tr>\n",
       "      <th>5</th>\n",
       "      <td>0</td>\n",
       "      <td>3</td>\n",
       "      <td>Allen, Mr. William Henry</td>\n",
       "      <td>male</td>\n",
       "      <td>35.0</td>\n",
       "      <td>0</td>\n",
       "      <td>0</td>\n",
       "      <td>373450</td>\n",
       "      <td>8.0500</td>\n",
       "      <td>NaN</td>\n",
       "      <td>S</td>\n",
       "    </tr>\n",
       "    <tr>\n",
       "      <th>6</th>\n",
       "      <td>0</td>\n",
       "      <td>3</td>\n",
       "      <td>Moran, Mr. James</td>\n",
       "      <td>male</td>\n",
       "      <td>NaN</td>\n",
       "      <td>0</td>\n",
       "      <td>0</td>\n",
       "      <td>330877</td>\n",
       "      <td>8.4583</td>\n",
       "      <td>NaN</td>\n",
       "      <td>Q</td>\n",
       "    </tr>\n",
       "    <tr>\n",
       "      <th>7</th>\n",
       "      <td>0</td>\n",
       "      <td>1</td>\n",
       "      <td>McCarthy, Mr. Timothy J</td>\n",
       "      <td>male</td>\n",
       "      <td>54.0</td>\n",
       "      <td>0</td>\n",
       "      <td>0</td>\n",
       "      <td>17463</td>\n",
       "      <td>51.8625</td>\n",
       "      <td>E46</td>\n",
       "      <td>S</td>\n",
       "    </tr>\n",
       "    <tr>\n",
       "      <th>8</th>\n",
       "      <td>0</td>\n",
       "      <td>3</td>\n",
       "      <td>Palsson, Master. Gosta Leonard</td>\n",
       "      <td>male</td>\n",
       "      <td>2.0</td>\n",
       "      <td>3</td>\n",
       "      <td>1</td>\n",
       "      <td>349909</td>\n",
       "      <td>21.0750</td>\n",
       "      <td>NaN</td>\n",
       "      <td>S</td>\n",
       "    </tr>\n",
       "    <tr>\n",
       "      <th>9</th>\n",
       "      <td>1</td>\n",
       "      <td>3</td>\n",
       "      <td>Johnson, Mrs. Oscar W (Elisabeth Vilhelmina Berg)</td>\n",
       "      <td>female</td>\n",
       "      <td>27.0</td>\n",
       "      <td>0</td>\n",
       "      <td>2</td>\n",
       "      <td>347742</td>\n",
       "      <td>11.1333</td>\n",
       "      <td>NaN</td>\n",
       "      <td>S</td>\n",
       "    </tr>\n",
       "    <tr>\n",
       "      <th>10</th>\n",
       "      <td>1</td>\n",
       "      <td>2</td>\n",
       "      <td>Nasser, Mrs. Nicholas (Adele Achem)</td>\n",
       "      <td>female</td>\n",
       "      <td>14.0</td>\n",
       "      <td>1</td>\n",
       "      <td>0</td>\n",
       "      <td>237736</td>\n",
       "      <td>30.0708</td>\n",
       "      <td>NaN</td>\n",
       "      <td>C</td>\n",
       "    </tr>\n",
       "  </tbody>\n",
       "</table>\n",
       "</div>"
      ],
      "text/plain": [
       "             Survived  Pclass  \\\n",
       "PassengerId                     \n",
       "1                   0       3   \n",
       "2                   1       1   \n",
       "3                   1       3   \n",
       "4                   1       1   \n",
       "5                   0       3   \n",
       "6                   0       3   \n",
       "7                   0       1   \n",
       "8                   0       3   \n",
       "9                   1       3   \n",
       "10                  1       2   \n",
       "\n",
       "                                                          Name     Sex   Age  \\\n",
       "PassengerId                                                                    \n",
       "1                                      Braund, Mr. Owen Harris    male  22.0   \n",
       "2            Cumings, Mrs. John Bradley (Florence Briggs Th...  female  38.0   \n",
       "3                                       Heikkinen, Miss. Laina  female  26.0   \n",
       "4                 Futrelle, Mrs. Jacques Heath (Lily May Peel)  female  35.0   \n",
       "5                                     Allen, Mr. William Henry    male  35.0   \n",
       "6                                             Moran, Mr. James    male   NaN   \n",
       "7                                      McCarthy, Mr. Timothy J    male  54.0   \n",
       "8                               Palsson, Master. Gosta Leonard    male   2.0   \n",
       "9            Johnson, Mrs. Oscar W (Elisabeth Vilhelmina Berg)  female  27.0   \n",
       "10                         Nasser, Mrs. Nicholas (Adele Achem)  female  14.0   \n",
       "\n",
       "             SibSp  Parch            Ticket     Fare Cabin Embarked  \n",
       "PassengerId                                                          \n",
       "1                1      0         A/5 21171   7.2500   NaN        S  \n",
       "2                1      0          PC 17599  71.2833   C85        C  \n",
       "3                0      0  STON/O2. 3101282   7.9250   NaN        S  \n",
       "4                1      0            113803  53.1000  C123        S  \n",
       "5                0      0            373450   8.0500   NaN        S  \n",
       "6                0      0            330877   8.4583   NaN        Q  \n",
       "7                0      0             17463  51.8625   E46        S  \n",
       "8                3      1            349909  21.0750   NaN        S  \n",
       "9                0      2            347742  11.1333   NaN        S  \n",
       "10               1      0            237736  30.0708   NaN        C  "
      ]
     },
     "execution_count": 3,
     "metadata": {},
     "output_type": "execute_result"
    }
   ],
   "source": [
    "titanic_test.head(10)"
   ]
  },
  {
   "cell_type": "code",
   "execution_count": 4,
   "id": "f546a527",
   "metadata": {
    "execution": {
     "iopub.execute_input": "2022-08-10T17:39:24.695779Z",
     "iopub.status.busy": "2022-08-10T17:39:24.694688Z",
     "iopub.status.idle": "2022-08-10T17:39:24.738816Z",
     "shell.execute_reply": "2022-08-10T17:39:24.737029Z"
    },
    "papermill": {
     "duration": 0.060326,
     "end_time": "2022-08-10T17:39:24.742485",
     "exception": false,
     "start_time": "2022-08-10T17:39:24.682159",
     "status": "completed"
    },
    "tags": []
   },
   "outputs": [
    {
     "data": {
      "text/html": [
       "<div>\n",
       "<style scoped>\n",
       "    .dataframe tbody tr th:only-of-type {\n",
       "        vertical-align: middle;\n",
       "    }\n",
       "\n",
       "    .dataframe tbody tr th {\n",
       "        vertical-align: top;\n",
       "    }\n",
       "\n",
       "    .dataframe thead th {\n",
       "        text-align: right;\n",
       "    }\n",
       "</style>\n",
       "<table border=\"1\" class=\"dataframe\">\n",
       "  <thead>\n",
       "    <tr style=\"text-align: right;\">\n",
       "      <th></th>\n",
       "      <th>Survived</th>\n",
       "      <th>Pclass</th>\n",
       "      <th>Age</th>\n",
       "      <th>SibSp</th>\n",
       "      <th>Parch</th>\n",
       "      <th>Fare</th>\n",
       "    </tr>\n",
       "  </thead>\n",
       "  <tbody>\n",
       "    <tr>\n",
       "      <th>count</th>\n",
       "      <td>891.000000</td>\n",
       "      <td>891.000000</td>\n",
       "      <td>714.000000</td>\n",
       "      <td>891.000000</td>\n",
       "      <td>891.000000</td>\n",
       "      <td>891.000000</td>\n",
       "    </tr>\n",
       "    <tr>\n",
       "      <th>mean</th>\n",
       "      <td>0.383838</td>\n",
       "      <td>2.308642</td>\n",
       "      <td>29.699118</td>\n",
       "      <td>0.523008</td>\n",
       "      <td>0.381594</td>\n",
       "      <td>32.204208</td>\n",
       "    </tr>\n",
       "    <tr>\n",
       "      <th>std</th>\n",
       "      <td>0.486592</td>\n",
       "      <td>0.836071</td>\n",
       "      <td>14.526497</td>\n",
       "      <td>1.102743</td>\n",
       "      <td>0.806057</td>\n",
       "      <td>49.693429</td>\n",
       "    </tr>\n",
       "    <tr>\n",
       "      <th>min</th>\n",
       "      <td>0.000000</td>\n",
       "      <td>1.000000</td>\n",
       "      <td>0.420000</td>\n",
       "      <td>0.000000</td>\n",
       "      <td>0.000000</td>\n",
       "      <td>0.000000</td>\n",
       "    </tr>\n",
       "    <tr>\n",
       "      <th>25%</th>\n",
       "      <td>0.000000</td>\n",
       "      <td>2.000000</td>\n",
       "      <td>20.125000</td>\n",
       "      <td>0.000000</td>\n",
       "      <td>0.000000</td>\n",
       "      <td>7.910400</td>\n",
       "    </tr>\n",
       "    <tr>\n",
       "      <th>50%</th>\n",
       "      <td>0.000000</td>\n",
       "      <td>3.000000</td>\n",
       "      <td>28.000000</td>\n",
       "      <td>0.000000</td>\n",
       "      <td>0.000000</td>\n",
       "      <td>14.454200</td>\n",
       "    </tr>\n",
       "    <tr>\n",
       "      <th>75%</th>\n",
       "      <td>1.000000</td>\n",
       "      <td>3.000000</td>\n",
       "      <td>38.000000</td>\n",
       "      <td>1.000000</td>\n",
       "      <td>0.000000</td>\n",
       "      <td>31.000000</td>\n",
       "    </tr>\n",
       "    <tr>\n",
       "      <th>max</th>\n",
       "      <td>1.000000</td>\n",
       "      <td>3.000000</td>\n",
       "      <td>80.000000</td>\n",
       "      <td>8.000000</td>\n",
       "      <td>6.000000</td>\n",
       "      <td>512.329200</td>\n",
       "    </tr>\n",
       "  </tbody>\n",
       "</table>\n",
       "</div>"
      ],
      "text/plain": [
       "         Survived      Pclass         Age       SibSp       Parch        Fare\n",
       "count  891.000000  891.000000  714.000000  891.000000  891.000000  891.000000\n",
       "mean     0.383838    2.308642   29.699118    0.523008    0.381594   32.204208\n",
       "std      0.486592    0.836071   14.526497    1.102743    0.806057   49.693429\n",
       "min      0.000000    1.000000    0.420000    0.000000    0.000000    0.000000\n",
       "25%      0.000000    2.000000   20.125000    0.000000    0.000000    7.910400\n",
       "50%      0.000000    3.000000   28.000000    0.000000    0.000000   14.454200\n",
       "75%      1.000000    3.000000   38.000000    1.000000    0.000000   31.000000\n",
       "max      1.000000    3.000000   80.000000    8.000000    6.000000  512.329200"
      ]
     },
     "execution_count": 4,
     "metadata": {},
     "output_type": "execute_result"
    }
   ],
   "source": [
    "titanic_test.describe()"
   ]
  },
  {
   "cell_type": "code",
   "execution_count": 5,
   "id": "143791a7",
   "metadata": {
    "execution": {
     "iopub.execute_input": "2022-08-10T17:39:24.771233Z",
     "iopub.status.busy": "2022-08-10T17:39:24.770351Z",
     "iopub.status.idle": "2022-08-10T17:39:24.796004Z",
     "shell.execute_reply": "2022-08-10T17:39:24.793312Z"
    },
    "papermill": {
     "duration": 0.044137,
     "end_time": "2022-08-10T17:39:24.799711",
     "exception": false,
     "start_time": "2022-08-10T17:39:24.755574",
     "status": "completed"
    },
    "tags": []
   },
   "outputs": [
    {
     "name": "stdout",
     "output_type": "stream",
     "text": [
      "<class 'pandas.core.frame.DataFrame'>\n",
      "Int64Index: 891 entries, 1 to 891\n",
      "Data columns (total 11 columns):\n",
      " #   Column    Non-Null Count  Dtype  \n",
      "---  ------    --------------  -----  \n",
      " 0   Survived  891 non-null    int64  \n",
      " 1   Pclass    891 non-null    int64  \n",
      " 2   Name      891 non-null    object \n",
      " 3   Sex       891 non-null    object \n",
      " 4   Age       714 non-null    float64\n",
      " 5   SibSp     891 non-null    int64  \n",
      " 6   Parch     891 non-null    int64  \n",
      " 7   Ticket    891 non-null    object \n",
      " 8   Fare      891 non-null    float64\n",
      " 9   Cabin     204 non-null    object \n",
      " 10  Embarked  889 non-null    object \n",
      "dtypes: float64(2), int64(4), object(5)\n",
      "memory usage: 83.5+ KB\n"
     ]
    }
   ],
   "source": [
    "titanic_test.info()"
   ]
  },
  {
   "cell_type": "code",
   "execution_count": 6,
   "id": "d1443f33",
   "metadata": {
    "execution": {
     "iopub.execute_input": "2022-08-10T17:39:24.825234Z",
     "iopub.status.busy": "2022-08-10T17:39:24.824604Z",
     "iopub.status.idle": "2022-08-10T17:39:24.832818Z",
     "shell.execute_reply": "2022-08-10T17:39:24.831120Z"
    },
    "papermill": {
     "duration": 0.024863,
     "end_time": "2022-08-10T17:39:24.835821",
     "exception": false,
     "start_time": "2022-08-10T17:39:24.810958",
     "status": "completed"
    },
    "tags": []
   },
   "outputs": [],
   "source": [
    "#let's normalize the class\n",
    "titanic_test['Pclass'] = round(titanic_test['Pclass'] / 3, 3)"
   ]
  },
  {
   "cell_type": "code",
   "execution_count": 7,
   "id": "5acf67aa",
   "metadata": {
    "execution": {
     "iopub.execute_input": "2022-08-10T17:39:24.863868Z",
     "iopub.status.busy": "2022-08-10T17:39:24.863368Z",
     "iopub.status.idle": "2022-08-10T17:39:24.871396Z",
     "shell.execute_reply": "2022-08-10T17:39:24.870014Z"
    },
    "papermill": {
     "duration": 0.026044,
     "end_time": "2022-08-10T17:39:24.874433",
     "exception": false,
     "start_time": "2022-08-10T17:39:24.848389",
     "status": "completed"
    },
    "tags": []
   },
   "outputs": [],
   "source": [
    "#let's normalize the sex\n",
    "titanic_test['Sex'] = (titanic_test['Sex'] == 'male').astype(int)"
   ]
  },
  {
   "cell_type": "code",
   "execution_count": 8,
   "id": "6bb9e24e",
   "metadata": {
    "execution": {
     "iopub.execute_input": "2022-08-10T17:39:24.900473Z",
     "iopub.status.busy": "2022-08-10T17:39:24.899631Z",
     "iopub.status.idle": "2022-08-10T17:39:24.916727Z",
     "shell.execute_reply": "2022-08-10T17:39:24.915162Z"
    },
    "papermill": {
     "duration": 0.03358,
     "end_time": "2022-08-10T17:39:24.920140",
     "exception": false,
     "start_time": "2022-08-10T17:39:24.886560",
     "status": "completed"
    },
    "tags": []
   },
   "outputs": [
    {
     "data": {
      "text/plain": [
       "1.0    644\n",
       "0.5    168\n",
       "0.0     77\n",
       "Name: Embarked, dtype: int64"
      ]
     },
     "execution_count": 8,
     "metadata": {},
     "output_type": "execute_result"
    }
   ],
   "source": [
    "#let's normalize embarked \n",
    "# Southampton = S, Cherbourg = C, and Queenstown = Q\n",
    "titanic_test[\"Embarked\"].value_counts()\n",
    "titanic_test.loc[titanic_test[\"Embarked\"] == \"S\", \"Embarked\"] = 1\n",
    "titanic_test.loc[titanic_test[\"Embarked\"] == \"C\", \"Embarked\"] = 0.5\n",
    "titanic_test.loc[titanic_test[\"Embarked\"] == \"Q\", \"Embarked\"] = 0\n",
    "titanic_test[\"Embarked\"].value_counts()"
   ]
  },
  {
   "cell_type": "code",
   "execution_count": 9,
   "id": "2d3f4e0c",
   "metadata": {
    "execution": {
     "iopub.execute_input": "2022-08-10T17:39:24.945758Z",
     "iopub.status.busy": "2022-08-10T17:39:24.945212Z",
     "iopub.status.idle": "2022-08-10T17:39:24.955675Z",
     "shell.execute_reply": "2022-08-10T17:39:24.953446Z"
    },
    "papermill": {
     "duration": 0.027715,
     "end_time": "2022-08-10T17:39:24.959492",
     "exception": false,
     "start_time": "2022-08-10T17:39:24.931777",
     "status": "completed"
    },
    "tags": []
   },
   "outputs": [],
   "source": [
    "#normalize the Fare\n",
    "titanic_test[\"Fare\"] = round(titanic_test[\"Fare\"] / titanic_test[\"Fare\"].mean(), 3)"
   ]
  },
  {
   "cell_type": "code",
   "execution_count": 10,
   "id": "aa61b822",
   "metadata": {
    "execution": {
     "iopub.execute_input": "2022-08-10T17:39:24.986023Z",
     "iopub.status.busy": "2022-08-10T17:39:24.985298Z",
     "iopub.status.idle": "2022-08-10T17:39:24.997174Z",
     "shell.execute_reply": "2022-08-10T17:39:24.995703Z"
    },
    "papermill": {
     "duration": 0.029309,
     "end_time": "2022-08-10T17:39:25.000128",
     "exception": false,
     "start_time": "2022-08-10T17:39:24.970819",
     "status": "completed"
    },
    "tags": []
   },
   "outputs": [],
   "source": [
    "#add new parametr rich and find normalized values\n",
    "titanic_test[\"Rich\"] = titanic_test[\"Fare\"] * titanic_test[\"Pclass\"]\n",
    "titanic_test[\"Rich\"] = round(titanic_test[\"Rich\"] / titanic_test[\"Rich\"].max(), 3)"
   ]
  },
  {
   "cell_type": "code",
   "execution_count": 11,
   "id": "95ebec0b",
   "metadata": {
    "execution": {
     "iopub.execute_input": "2022-08-10T17:39:25.024211Z",
     "iopub.status.busy": "2022-08-10T17:39:25.023694Z",
     "iopub.status.idle": "2022-08-10T17:39:25.032710Z",
     "shell.execute_reply": "2022-08-10T17:39:25.031328Z"
    },
    "papermill": {
     "duration": 0.024406,
     "end_time": "2022-08-10T17:39:25.035767",
     "exception": false,
     "start_time": "2022-08-10T17:39:25.011361",
     "status": "completed"
    },
    "tags": []
   },
   "outputs": [],
   "source": [
    "#normalize the Age \n",
    "titanic_test[\"Age\"] = titanic_test[\"Age\"] / titanic_test[\"Age\"].mean()\n",
    "titanic_test[\"Age\"] = round(titanic_test[\"Age\"] / titanic_test[\"Age\"].max(), 3)"
   ]
  },
  {
   "cell_type": "code",
   "execution_count": 12,
   "id": "e69fe8a0",
   "metadata": {
    "execution": {
     "iopub.execute_input": "2022-08-10T17:39:25.063784Z",
     "iopub.status.busy": "2022-08-10T17:39:25.062811Z",
     "iopub.status.idle": "2022-08-10T17:39:25.071945Z",
     "shell.execute_reply": "2022-08-10T17:39:25.070638Z"
    },
    "papermill": {
     "duration": 0.026401,
     "end_time": "2022-08-10T17:39:25.074992",
     "exception": false,
     "start_time": "2022-08-10T17:39:25.048591",
     "status": "completed"
    },
    "tags": []
   },
   "outputs": [],
   "source": [
    "#normalize the SibSp and Parch\n",
    "titanic_test[\"SibSp\"] = round(titanic_test[\"SibSp\"] / titanic_test[\"SibSp\"].max(), 3)\n",
    "titanic_test[\"Parch\"] = round(titanic_test[\"Parch\"] / titanic_test[\"Parch\"].max(), 3)"
   ]
  },
  {
   "cell_type": "code",
   "execution_count": 13,
   "id": "ba98b0d4",
   "metadata": {
    "execution": {
     "iopub.execute_input": "2022-08-10T17:39:25.102326Z",
     "iopub.status.busy": "2022-08-10T17:39:25.101754Z",
     "iopub.status.idle": "2022-08-10T17:39:25.123695Z",
     "shell.execute_reply": "2022-08-10T17:39:25.122673Z"
    },
    "papermill": {
     "duration": 0.039617,
     "end_time": "2022-08-10T17:39:25.126706",
     "exception": false,
     "start_time": "2022-08-10T17:39:25.087089",
     "status": "completed"
    },
    "tags": []
   },
   "outputs": [
    {
     "data": {
      "text/html": [
       "<div>\n",
       "<style scoped>\n",
       "    .dataframe tbody tr th:only-of-type {\n",
       "        vertical-align: middle;\n",
       "    }\n",
       "\n",
       "    .dataframe tbody tr th {\n",
       "        vertical-align: top;\n",
       "    }\n",
       "\n",
       "    .dataframe thead th {\n",
       "        text-align: right;\n",
       "    }\n",
       "</style>\n",
       "<table border=\"1\" class=\"dataframe\">\n",
       "  <thead>\n",
       "    <tr style=\"text-align: right;\">\n",
       "      <th></th>\n",
       "      <th>Sex</th>\n",
       "      <th>Age</th>\n",
       "      <th>SibSp</th>\n",
       "      <th>Parch</th>\n",
       "      <th>Rich</th>\n",
       "      <th>Survived</th>\n",
       "    </tr>\n",
       "  </thead>\n",
       "  <tbody>\n",
       "    <tr>\n",
       "      <th>Sex</th>\n",
       "      <td>1.000000</td>\n",
       "      <td>0.093286</td>\n",
       "      <td>-0.114631</td>\n",
       "      <td>-0.245521</td>\n",
       "      <td>-0.186625</td>\n",
       "      <td>-0.543351</td>\n",
       "    </tr>\n",
       "    <tr>\n",
       "      <th>Age</th>\n",
       "      <td>0.093286</td>\n",
       "      <td>1.000000</td>\n",
       "      <td>-0.308303</td>\n",
       "      <td>-0.189177</td>\n",
       "      <td>-0.034823</td>\n",
       "      <td>-0.077231</td>\n",
       "    </tr>\n",
       "    <tr>\n",
       "      <th>SibSp</th>\n",
       "      <td>-0.114631</td>\n",
       "      <td>-0.308303</td>\n",
       "      <td>1.000000</td>\n",
       "      <td>0.414788</td>\n",
       "      <td>0.425767</td>\n",
       "      <td>-0.035322</td>\n",
       "    </tr>\n",
       "    <tr>\n",
       "      <th>Parch</th>\n",
       "      <td>-0.245521</td>\n",
       "      <td>-0.189177</td>\n",
       "      <td>0.414788</td>\n",
       "      <td>1.000000</td>\n",
       "      <td>0.391903</td>\n",
       "      <td>0.081704</td>\n",
       "    </tr>\n",
       "    <tr>\n",
       "      <th>Rich</th>\n",
       "      <td>-0.186625</td>\n",
       "      <td>-0.034823</td>\n",
       "      <td>0.425767</td>\n",
       "      <td>0.391903</td>\n",
       "      <td>1.000000</td>\n",
       "      <td>0.183695</td>\n",
       "    </tr>\n",
       "    <tr>\n",
       "      <th>Survived</th>\n",
       "      <td>-0.543351</td>\n",
       "      <td>-0.077231</td>\n",
       "      <td>-0.035322</td>\n",
       "      <td>0.081704</td>\n",
       "      <td>0.183695</td>\n",
       "      <td>1.000000</td>\n",
       "    </tr>\n",
       "  </tbody>\n",
       "</table>\n",
       "</div>"
      ],
      "text/plain": [
       "               Sex       Age     SibSp     Parch      Rich  Survived\n",
       "Sex       1.000000  0.093286 -0.114631 -0.245521 -0.186625 -0.543351\n",
       "Age       0.093286  1.000000 -0.308303 -0.189177 -0.034823 -0.077231\n",
       "SibSp    -0.114631 -0.308303  1.000000  0.414788  0.425767 -0.035322\n",
       "Parch    -0.245521 -0.189177  0.414788  1.000000  0.391903  0.081704\n",
       "Rich     -0.186625 -0.034823  0.425767  0.391903  1.000000  0.183695\n",
       "Survived -0.543351 -0.077231 -0.035322  0.081704  0.183695  1.000000"
      ]
     },
     "execution_count": 13,
     "metadata": {},
     "output_type": "execute_result"
    }
   ],
   "source": [
    "new_data = titanic_test[[\"Sex\", \"Age\", \"Embarked\", \"SibSp\", \"Parch\", \"Rich\", \"Survived\"]]\n",
    "new_data.corr()"
   ]
  },
  {
   "cell_type": "code",
   "execution_count": 14,
   "id": "6c22672b",
   "metadata": {
    "execution": {
     "iopub.execute_input": "2022-08-10T17:39:25.154240Z",
     "iopub.status.busy": "2022-08-10T17:39:25.153320Z",
     "iopub.status.idle": "2022-08-10T17:39:25.697072Z",
     "shell.execute_reply": "2022-08-10T17:39:25.695135Z"
    },
    "papermill": {
     "duration": 0.561365,
     "end_time": "2022-08-10T17:39:25.700532",
     "exception": false,
     "start_time": "2022-08-10T17:39:25.139167",
     "status": "completed"
    },
    "tags": []
   },
   "outputs": [
    {
     "data": {
      "text/plain": [
       "<AxesSubplot:>"
      ]
     },
     "execution_count": 14,
     "metadata": {},
     "output_type": "execute_result"
    },
    {
     "data": {
      "image/png": "[encoded data removed]",
      "text/plain": [
       "<Figure size 432x288 with 2 Axes>"
      ]
     },
     "metadata": {
      "needs_background": "light"
     },
     "output_type": "display_data"
    }
   ],
   "source": [
    "sns.heatmap(new_data.corr(), cmap='coolwarm', vmin = -1, vmax = 1, annot = True)"
   ]
  },
  {
   "cell_type": "markdown",
   "id": "521dce71",
   "metadata": {
    "papermill": {
     "duration": 0.012136,
     "end_time": "2022-08-10T17:39:25.726757",
     "exception": false,
     "start_time": "2022-08-10T17:39:25.714621",
     "status": "completed"
    },
    "tags": []
   },
   "source": [
    "##### 3. Export of data "
   ]
  },
  {
   "cell_type": "code",
   "execution_count": 15,
   "id": "bfa78f17",
   "metadata": {
    "execution": {
     "iopub.execute_input": "2022-08-10T17:39:25.754783Z",
     "iopub.status.busy": "2022-08-10T17:39:25.754222Z",
     "iopub.status.idle": "2022-08-10T17:39:25.770867Z",
     "shell.execute_reply": "2022-08-10T17:39:25.769643Z"
    },
    "papermill": {
     "duration": 0.034832,
     "end_time": "2022-08-10T17:39:25.773979",
     "exception": false,
     "start_time": "2022-08-10T17:39:25.739147",
     "status": "completed"
    },
    "tags": []
   },
   "outputs": [],
   "source": [
    "new_data = titanic_test[[\"Sex\", \"Age\", \"Embarked\", \"SibSp\", \"Parch\", \"Rich\", \"Survived\"]].dropna()\n",
    "X = new_data[[\"Sex\", \"Age\", \"Embarked\", \"SibSp\", \"Parch\", \"Rich\"]].to_numpy(float)\n",
    "y = new_data[\"Survived\"].to_numpy(float)"
   ]
  },
  {
   "cell_type": "code",
   "execution_count": 16,
   "id": "b00a175e",
   "metadata": {
    "execution": {
     "iopub.execute_input": "2022-08-10T17:39:25.803235Z",
     "iopub.status.busy": "2022-08-10T17:39:25.801966Z",
     "iopub.status.idle": "2022-08-10T17:39:25.814471Z",
     "shell.execute_reply": "2022-08-10T17:39:25.813382Z"
    },
    "papermill": {
     "duration": 0.030854,
     "end_time": "2022-08-10T17:39:25.817258",
     "exception": false,
     "start_time": "2022-08-10T17:39:25.786404",
     "status": "completed"
    },
    "tags": []
   },
   "outputs": [],
   "source": [
    "#let's separate data to X_train, y_train, X_test, y_test\n",
    "def train_test_split(X, y, alpha = 0.5):\n",
    "    n_1, k_1 = X.shape\n",
    "    X_train = X[ :int(n_1 * alpha)]\n",
    "    X_test = X[int(n_1 * alpha): ]\n",
    "    y_train = y[ :int(n_1 * alpha)]\n",
    "    y_test = y[int(n_1 * alpha): ]\n",
    "    return X_train, X_test, y_train, y_test\n",
    "\n",
    "#let's build train_test_split with shuffle \n",
    "def train_test_split_shuffle(X, y, alpha = 0.5):\n",
    "    n_1, k_1 = X.shape\n",
    "    ids = np.arange(n_1)\n",
    "    np.random.shuffle(ids)\n",
    "    len_of_part = int(n_1 * alpha)\n",
    "    id_first = ids[: len_of_part]\n",
    "    id_second = ids[len_of_part: ]\n",
    "    X_train, X_test, y_train, y_test = X[id_first], X[id_second], y[id_first], y[id_second]\n",
    "    return X_train, X_test, y_train, y_test"
   ]
  },
  {
   "cell_type": "code",
   "execution_count": 17,
   "id": "035c4a55",
   "metadata": {
    "execution": {
     "iopub.execute_input": "2022-08-10T17:39:25.845080Z",
     "iopub.status.busy": "2022-08-10T17:39:25.844075Z",
     "iopub.status.idle": "2022-08-10T17:39:25.852884Z",
     "shell.execute_reply": "2022-08-10T17:39:25.851460Z"
    },
    "papermill": {
     "duration": 0.026908,
     "end_time": "2022-08-10T17:39:25.856246",
     "exception": false,
     "start_time": "2022-08-10T17:39:25.829338",
     "status": "completed"
    },
    "tags": []
   },
   "outputs": [
    {
     "name": "stdout",
     "output_type": "stream",
     "text": [
      "605\n",
      "107\n"
     ]
    }
   ],
   "source": [
    "X_train, X_test, y_train, y_test = train_test_split_shuffle(X, y, 0.85)\n",
    "print(X_train.shape[0])\n",
    "print(X_test.shape[0])"
   ]
  },
  {
   "cell_type": "markdown",
   "id": "4fd633bb",
   "metadata": {
    "papermill": {
     "duration": 0.012112,
     "end_time": "2022-08-10T17:39:25.881219",
     "exception": false,
     "start_time": "2022-08-10T17:39:25.869107",
     "status": "completed"
    },
    "tags": []
   },
   "source": [
    "##### 4. Setup of Model"
   ]
  },
  {
   "cell_type": "code",
   "execution_count": 18,
   "id": "0383e2b1",
   "metadata": {
    "execution": {
     "iopub.execute_input": "2022-08-10T17:39:25.911747Z",
     "iopub.status.busy": "2022-08-10T17:39:25.911004Z",
     "iopub.status.idle": "2022-08-10T17:39:25.922193Z",
     "shell.execute_reply": "2022-08-10T17:39:25.920323Z"
    },
    "papermill": {
     "duration": 0.030815,
     "end_time": "2022-08-10T17:39:25.925875",
     "exception": false,
     "start_time": "2022-08-10T17:39:25.895060",
     "status": "completed"
    },
    "tags": []
   },
   "outputs": [],
   "source": [
    "#let's get to Logistic Regression\n",
    "def sigmoid(x):\n",
    "    return 1 / (1 + np.exp(-x))\n",
    "\n",
    "def soft_sign(x, eps = 1e-7):\n",
    "    if abs(x) > eps:\n",
    "        return np.sign(x)\n",
    "    return x / eps\n",
    "\n",
    "np_soft_sign = np.vectorize(soft_sign)\n",
    "\n",
    "def logit(x, w): # the same as x @ w\n",
    "    return np.dot(x, w) \n",
    "\n",
    "#metrics \n",
    "def mean_squared_error(y, y_pred): #not right metrics for that sort of linear function, but i still will be using it\n",
    "    res = y - y_pred\n",
    "    res = res ** 2\n",
    "    return res.sum() / y.size\n",
    "\n",
    "def mean_absolute_error():\n",
    "    pass\n",
    "\n",
    "\n",
    "def log_loss(y, p):\n",
    "    p = np.clip(p, 1e-7, 1 - 1e-7)\n",
    "    return -np.sum(y * np.log(p) + (1 - y) * np.log(1 - p)) / len(y)\n",
    "\n",
    "threshold = 0.5\n",
    "all_tresholds = np.arange(0, 1.05, 0.05)"
   ]
  },
  {
   "cell_type": "code",
   "execution_count": 19,
   "id": "5fc4eb37",
   "metadata": {
    "execution": {
     "iopub.execute_input": "2022-08-10T17:39:25.955988Z",
     "iopub.status.busy": "2022-08-10T17:39:25.955281Z",
     "iopub.status.idle": "2022-08-10T17:39:25.974424Z",
     "shell.execute_reply": "2022-08-10T17:39:25.972968Z"
    },
    "papermill": {
     "duration": 0.037131,
     "end_time": "2022-08-10T17:39:25.976948",
     "exception": false,
     "start_time": "2022-08-10T17:39:25.939817",
     "status": "completed"
    },
    "tags": []
   },
   "outputs": [],
   "source": [
    "class LogisticRegression():\n",
    "    def __init__ (self, fit_intercept = 1, coef_1 = 1, coef_2 = 1):\n",
    "        self.fit_intercept = fit_intercept\n",
    "        self.w = None\n",
    "        self.loss = []\n",
    "        self.coef_1 = coef_1\n",
    "        self.coef_2 = coef_2 \n",
    "\n",
    "    def fit(self, X, y, epochs = 10, lr = 0.1, batch_size = 100):\n",
    "        n, k = X.shape\n",
    "        if self.w is None:\n",
    "            np.random.seed(42)\n",
    "            self.w = np.random.randn(k + 1)\n",
    "\n",
    "        for i in range(epochs): #rough but tough batch implementation\n",
    "            for X_batch, y_batch in self.generate_batch(X, y, batch_size):\n",
    "\n",
    "                y_pred = sigmoid(logit(X_batch, self.w))\n",
    "\n",
    "                self.w -= self.calculate_gradient(X_batch, y_batch, y_pred) * lr\n",
    "        \n",
    "\n",
    "                self.loss.append(self.__loss(y_batch, y_pred))\n",
    "\n",
    "\n",
    "    def calculate_gradient(self, X, y, y_pred):\n",
    "        signw = np_soft_sign(self.w)\n",
    "\n",
    "        grad_basic = logit(X.T, (y_pred - y))\n",
    "        \n",
    "        grad_l1 = signw * self.coef_1\n",
    "        grad_l2 = 2 * self.coef_2 * self.w\n",
    "\n",
    "        grad_l1[0] = grad_l2[0] = 0\n",
    "\n",
    "        return grad_basic + grad_l1 + grad_l2\n",
    "    \n",
    "    def generate_batch(self, X, y, batch_size):\n",
    "        n, k = X.shape\n",
    "        X_train = np.concatenate((np.ones((n, 1)), X), axis = 1)\n",
    "        id_s = np.arange(n)\n",
    "        id = 0\n",
    "        while ((id < n) and (id + batch_size < n)):\n",
    "            yield  (X_train[id: id + batch_size],\n",
    "                    y[id: id + batch_size])\n",
    "            id += batch_size\n",
    "\n",
    "\n",
    "    def predict(self, X):\n",
    "        return self.predict_prob(X) >= threshold \n",
    "\n",
    "    def predict_prob(self, X):\n",
    "        n, k = X.shape\n",
    "        X = np.concatenate((np.ones((n, 1)), X), axis=1)\n",
    "        return sigmoid(X @ self.w)\n",
    "\n",
    "    def get_weights(self):\n",
    "        return self.w.copy() \n",
    "    \n",
    "    def get_loss(self):\n",
    "        return self.loss.copy()\n",
    "\n",
    "    def __loss(self, y, p):\n",
    "        p = np.clip(p, 1e-7, 1 - 1e-7)\n",
    "        return -np.sum(y * np.log(p) + (1 - y) * np.log(1 - p)) / len(y)"
   ]
  },
  {
   "cell_type": "markdown",
   "id": "aa003eeb",
   "metadata": {
    "papermill": {
     "duration": 0.012472,
     "end_time": "2022-08-10T17:39:26.001874",
     "exception": false,
     "start_time": "2022-08-10T17:39:25.989402",
     "status": "completed"
    },
    "tags": []
   },
   "source": [
    "##### 5. Finding of the most suitable hyperapms"
   ]
  },
  {
   "cell_type": "code",
   "execution_count": 20,
   "id": "4b9eb4cd",
   "metadata": {
    "execution": {
     "iopub.execute_input": "2022-08-10T17:39:26.028361Z",
     "iopub.status.busy": "2022-08-10T17:39:26.027840Z",
     "iopub.status.idle": "2022-08-10T17:39:26.034727Z",
     "shell.execute_reply": "2022-08-10T17:39:26.033518Z"
    },
    "papermill": {
     "duration": 0.023381,
     "end_time": "2022-08-10T17:39:26.037429",
     "exception": false,
     "start_time": "2022-08-10T17:39:26.014048",
     "status": "completed"
    },
    "tags": []
   },
   "outputs": [],
   "source": [
    "#set up the grid of values (to find best ones)\n",
    "coef1 = np.linspace(0, 5, 20)\n",
    "coef2 = np.linspace(0, 5, 20)\n",
    "epoechs = np.arange(1, 11)"
   ]
  },
  {
   "cell_type": "code",
   "execution_count": 21,
   "id": "64eb8e98",
   "metadata": {
    "execution": {
     "iopub.execute_input": "2022-08-10T17:39:26.065427Z",
     "iopub.status.busy": "2022-08-10T17:39:26.064968Z",
     "iopub.status.idle": "2022-08-10T17:39:26.076393Z",
     "shell.execute_reply": "2022-08-10T17:39:26.075460Z"
    },
    "papermill": {
     "duration": 0.02937,
     "end_time": "2022-08-10T17:39:26.078988",
     "exception": false,
     "start_time": "2022-08-10T17:39:26.049618",
     "status": "completed"
    },
    "tags": []
   },
   "outputs": [],
   "source": [
    "#if you want you can uncomment this sections and find these optimum coefficients on you own\n",
    "'''\n",
    "optimum = [coef1[0], coef2[0]]\n",
    "bedt_epoch = 0\n",
    "res = 1\n",
    "\n",
    "best_classifier = LogisticRegression() #put best classifier to this varible\n",
    "\n",
    "for i in coef1:\n",
    "    for j in coef2:\n",
    "        for k in epoechs: \n",
    "            clf = LogisticRegression(coef_1 = i, coef_2 = j)\n",
    "            clf.fit(X_train, y_train, epochs = k)\n",
    "            prediction = clf.predict(X_test).astype(int)\n",
    "            if mean_squared_error(prediction, y_test) < res:\n",
    "                optimum[0] = i\n",
    "                optimum[1] = j\n",
    "                best_epoch = k\n",
    "                res = mean_squared_error(prediction, y_test)\n",
    "                best_classifier = clf\n",
    "'''\n",
    "\n",
    "optimum = [0.5263157894736842, 0.5263157894736842]\n",
    "res = 0.1308411214953271\n",
    "best_epoch = 6\n",
    "best_classifier = LogisticRegression(coef_1 = optimum[0], coef_2 = optimum[1])\n",
    "best_classifier.fit(X, y, epochs = 6)"
   ]
  },
  {
   "cell_type": "code",
   "execution_count": 22,
   "id": "c54c53c5",
   "metadata": {
    "execution": {
     "iopub.execute_input": "2022-08-10T17:39:26.107255Z",
     "iopub.status.busy": "2022-08-10T17:39:26.106736Z",
     "iopub.status.idle": "2022-08-10T17:39:26.112828Z",
     "shell.execute_reply": "2022-08-10T17:39:26.111255Z"
    },
    "papermill": {
     "duration": 0.023755,
     "end_time": "2022-08-10T17:39:26.115732",
     "exception": false,
     "start_time": "2022-08-10T17:39:26.091977",
     "status": "completed"
    },
    "tags": []
   },
   "outputs": [],
   "source": [
    "'''\n",
    "print(optimum)\n",
    "print(res)\n",
    "print(best_epoch)\n",
    "\n",
    "'''\n",
    "None"
   ]
  },
  {
   "cell_type": "code",
   "execution_count": 23,
   "id": "0740a40a",
   "metadata": {
    "execution": {
     "iopub.execute_input": "2022-08-10T17:39:26.144720Z",
     "iopub.status.busy": "2022-08-10T17:39:26.144238Z",
     "iopub.status.idle": "2022-08-10T17:39:26.432428Z",
     "shell.execute_reply": "2022-08-10T17:39:26.431033Z"
    },
    "papermill": {
     "duration": 0.30593,
     "end_time": "2022-08-10T17:39:26.435806",
     "exception": false,
     "start_time": "2022-08-10T17:39:26.129876",
     "status": "completed"
    },
    "tags": []
   },
   "outputs": [
    {
     "data": {
      "image/png": "[encoded data removed]",
      "text/plain": [
       "<Figure size 720x504 with 1 Axes>"
      ]
     },
     "metadata": {
      "needs_background": "light"
     },
     "output_type": "display_data"
    }
   ],
   "source": [
    "loss = best_classifier.get_loss()\n",
    "plt.figure(figsize = (10, 7))\n",
    "plt.plot(loss, label = 'loss')\n",
    "plt.title(\"Titanic Loss\")\n",
    "plt.legend()\n",
    "plt.grid(alpha = 0.2)\n",
    "plt.show()"
   ]
  },
  {
   "cell_type": "markdown",
   "id": "7f302cb5",
   "metadata": {
    "papermill": {
     "duration": 0.013725,
     "end_time": "2022-08-10T17:39:26.464415",
     "exception": false,
     "start_time": "2022-08-10T17:39:26.450690",
     "status": "completed"
    },
    "tags": []
   },
   "source": [
    "Let's estimate the accuracy of `best_classifier` via **FPR** and **TPR**"
   ]
  },
  {
   "cell_type": "code",
   "execution_count": 24,
   "id": "0965549a",
   "metadata": {
    "execution": {
     "iopub.execute_input": "2022-08-10T17:39:26.496017Z",
     "iopub.status.busy": "2022-08-10T17:39:26.495351Z",
     "iopub.status.idle": "2022-08-10T17:39:26.504642Z",
     "shell.execute_reply": "2022-08-10T17:39:26.503535Z"
    },
    "papermill": {
     "duration": 0.029203,
     "end_time": "2022-08-10T17:39:26.506831",
     "exception": false,
     "start_time": "2022-08-10T17:39:26.477628",
     "status": "completed"
    },
    "tags": []
   },
   "outputs": [],
   "source": [
    "def roc_curve(y, y_pred, thresholds = all_tresholds):\n",
    "\n",
    "    fpr = []\n",
    "    tpr = []\n",
    "\n",
    "    for threshold in thresholds:\n",
    "        y_pred = np.where(y_pred >= threshold, 1, 0)\n",
    "\n",
    "        fp = np.sum((y_pred == 1) & (y == 0))\n",
    "        tp = np.sum((y_pred == 1) & (y== 1))\n",
    "\n",
    "        fn = np.sum((y_pred == 0) & (y == 1))\n",
    "        tn = np.sum((y_pred == 0) & (y == 0))\n",
    "        fpr.append(fp / (fp + tn))\n",
    "        tpr.append(tp / (tp + fn))\n",
    "\n",
    "    return fpr, tpr"
   ]
  },
  {
   "cell_type": "code",
   "execution_count": 25,
   "id": "df504044",
   "metadata": {
    "execution": {
     "iopub.execute_input": "2022-08-10T17:39:26.540108Z",
     "iopub.status.busy": "2022-08-10T17:39:26.539483Z",
     "iopub.status.idle": "2022-08-10T17:39:26.553944Z",
     "shell.execute_reply": "2022-08-10T17:39:26.552547Z"
    },
    "papermill": {
     "duration": 0.036574,
     "end_time": "2022-08-10T17:39:26.557389",
     "exception": false,
     "start_time": "2022-08-10T17:39:26.520815",
     "status": "completed"
    },
    "tags": []
   },
   "outputs": [],
   "source": [
    "prediction = best_classifier.predict_prob(X_test)\n",
    "fpr = []\n",
    "tpr = []\n",
    "for i in all_tresholds:\n",
    "    y_pred = np.where(prediction >= i, 1, 0)\n",
    "    #print(y_pred)\n",
    "\n",
    "    fp = np.sum((y_pred == 1) & (y_test == 0))\n",
    "    tp = np.sum((y_pred == 1) & (y_test == 1))\n",
    "\n",
    "    tn = np.sum((y_pred == 0) & (y_test == 0))\n",
    "    fn = np.sum((y_pred == 0) & (y_test == 1))\n",
    "\n",
    "    fpr.append(fp / (fp + tn))\n",
    "    tpr.append(tp / (tp + fn))\n"
   ]
  },
  {
   "cell_type": "code",
   "execution_count": 26,
   "id": "1e31a4bb",
   "metadata": {
    "execution": {
     "iopub.execute_input": "2022-08-10T17:39:26.589788Z",
     "iopub.status.busy": "2022-08-10T17:39:26.588231Z",
     "iopub.status.idle": "2022-08-10T17:39:26.854672Z",
     "shell.execute_reply": "2022-08-10T17:39:26.852759Z"
    },
    "papermill": {
     "duration": 0.286802,
     "end_time": "2022-08-10T17:39:26.857674",
     "exception": false,
     "start_time": "2022-08-10T17:39:26.570872",
     "status": "completed"
    },
    "tags": []
   },
   "outputs": [
    {
     "data": {
      "image/png": "[encoded data removed]",
      "text/plain": [
       "<Figure size 720x504 with 1 Axes>"
      ]
     },
     "metadata": {
      "needs_background": "light"
     },
     "output_type": "display_data"
    }
   ],
   "source": [
    "plt.figure(figsize = (10, 7))\n",
    "plt.plot([0, 1], [0, 1], linestyle = '--')\n",
    "plt.plot(fpr, tpr, color='darkorange',)\n",
    "plt.xlabel('False Positive Rate')\n",
    "plt.ylabel('True Positive Rate')\n",
    "plt.grid(alpha = 0.5)\n",
    "plt.title(\"ROC - AUC\")\n",
    "plt.show()"
   ]
  },
  {
   "cell_type": "markdown",
   "id": "c4ad94f2",
   "metadata": {
    "papermill": {
     "duration": 0.014892,
     "end_time": "2022-08-10T17:39:26.885780",
     "exception": false,
     "start_time": "2022-08-10T17:39:26.870888",
     "status": "completed"
    },
    "tags": []
   },
   "source": [
    "##### 5. Finaly, repeat all first steps to test data and predict `submit_csv`"
   ]
  },
  {
   "cell_type": "code",
   "execution_count": 27,
   "id": "4acd6b66",
   "metadata": {
    "execution": {
     "iopub.execute_input": "2022-08-10T17:39:26.917367Z",
     "iopub.status.busy": "2022-08-10T17:39:26.916327Z",
     "iopub.status.idle": "2022-08-10T17:39:26.951210Z",
     "shell.execute_reply": "2022-08-10T17:39:26.948986Z"
    },
    "papermill": {
     "duration": 0.054999,
     "end_time": "2022-08-10T17:39:26.955109",
     "exception": false,
     "start_time": "2022-08-10T17:39:26.900110",
     "status": "completed"
    },
    "tags": []
   },
   "outputs": [],
   "source": [
    "#read csv\n",
    "titanic_test = pd.read_csv(\"../input/titanic/test.csv\", index_col='PassengerId')\n",
    "\n",
    "#all normalizations \n",
    "titanic_test['Pclass'] = round(titanic_test['Pclass'] / 3, 3)\n",
    "titanic_test['Sex'] = (titanic_test['Sex'] == 'male').astype(int)\n",
    "titanic_test.loc[titanic_test[\"Embarked\"] == \"S\", \"Embarked\"] = 1\n",
    "titanic_test.loc[titanic_test[\"Embarked\"] == \"C\", \"Embarked\"] = 0.5\n",
    "titanic_test.loc[titanic_test[\"Embarked\"] == \"Q\", \"Embarked\"] = 0\n",
    "titanic_test[\"Fare\"] = round(titanic_test[\"Fare\"] / titanic_test[\"Fare\"].mean(), 3)\n",
    "titanic_test[\"Rich\"] = titanic_test[\"Fare\"] * titanic_test[\"Pclass\"]\n",
    "titanic_test[\"Rich\"] = round(titanic_test[\"Rich\"] / titanic_test[\"Rich\"].max(), 3)\n",
    "titanic_test[\"Age\"] = titanic_test[\"Age\"] / titanic_test[\"Age\"].mean()\n",
    "titanic_test[\"Age\"] = round(titanic_test[\"Age\"] / titanic_test[\"Age\"].max(), 3)\n",
    "titanic_test[\"SibSp\"] = round(titanic_test[\"SibSp\"] / titanic_test[\"SibSp\"].max(), 3)\n",
    "titanic_test[\"Parch\"] = round(titanic_test[\"Parch\"] / titanic_test[\"Parch\"].max(), 3)"
   ]
  },
  {
   "cell_type": "code",
   "execution_count": 28,
   "id": "0e403bba",
   "metadata": {
    "execution": {
     "iopub.execute_input": "2022-08-10T17:39:26.986097Z",
     "iopub.status.busy": "2022-08-10T17:39:26.985489Z",
     "iopub.status.idle": "2022-08-10T17:39:26.994834Z",
     "shell.execute_reply": "2022-08-10T17:39:26.993430Z"
    },
    "papermill": {
     "duration": 0.030202,
     "end_time": "2022-08-10T17:39:26.998708",
     "exception": false,
     "start_time": "2022-08-10T17:39:26.968506",
     "status": "completed"
    },
    "tags": []
   },
   "outputs": [],
   "source": [
    "#export to numpy\n",
    "X = titanic_test[[\"Sex\", \"Age\", \"Embarked\", \"SibSp\", \"Parch\", \"Rich\"]].to_numpy(float)"
   ]
  },
  {
   "cell_type": "code",
   "execution_count": 29,
   "id": "326863db",
   "metadata": {
    "execution": {
     "iopub.execute_input": "2022-08-10T17:39:27.028823Z",
     "iopub.status.busy": "2022-08-10T17:39:27.027934Z",
     "iopub.status.idle": "2022-08-10T17:39:27.033541Z",
     "shell.execute_reply": "2022-08-10T17:39:27.032437Z"
    },
    "papermill": {
     "duration": 0.024172,
     "end_time": "2022-08-10T17:39:27.036318",
     "exception": false,
     "start_time": "2022-08-10T17:39:27.012146",
     "status": "completed"
    },
    "tags": []
   },
   "outputs": [],
   "source": [
    "#prediction of survival \n",
    "prediction = best_classifier.predict(X)"
   ]
  },
  {
   "cell_type": "code",
   "execution_count": 30,
   "id": "e8bbefa6",
   "metadata": {
    "execution": {
     "iopub.execute_input": "2022-08-10T17:39:27.065111Z",
     "iopub.status.busy": "2022-08-10T17:39:27.064351Z",
     "iopub.status.idle": "2022-08-10T17:39:27.069212Z",
     "shell.execute_reply": "2022-08-10T17:39:27.068244Z"
    },
    "papermill": {
     "duration": 0.02258,
     "end_time": "2022-08-10T17:39:27.071782",
     "exception": false,
     "start_time": "2022-08-10T17:39:27.049202",
     "status": "completed"
    },
    "tags": []
   },
   "outputs": [],
   "source": [
    "prediction = prediction.astype(int)\n"
   ]
  },
  {
   "cell_type": "code",
   "execution_count": 31,
   "id": "b06a3611",
   "metadata": {
    "execution": {
     "iopub.execute_input": "2022-08-10T17:39:27.103212Z",
     "iopub.status.busy": "2022-08-10T17:39:27.102459Z",
     "iopub.status.idle": "2022-08-10T17:39:27.108546Z",
     "shell.execute_reply": "2022-08-10T17:39:27.107229Z"
    },
    "papermill": {
     "duration": 0.02581,
     "end_time": "2022-08-10T17:39:27.111593",
     "exception": false,
     "start_time": "2022-08-10T17:39:27.085783",
     "status": "completed"
    },
    "tags": []
   },
   "outputs": [],
   "source": [
    "titanic_test['Survived'] = prediction"
   ]
  },
  {
   "cell_type": "code",
   "execution_count": 32,
   "id": "fcbd9761",
   "metadata": {
    "execution": {
     "iopub.execute_input": "2022-08-10T17:39:27.142118Z",
     "iopub.status.busy": "2022-08-10T17:39:27.141233Z",
     "iopub.status.idle": "2022-08-10T17:39:27.152019Z",
     "shell.execute_reply": "2022-08-10T17:39:27.150478Z"
    },
    "papermill": {
     "duration": 0.03005,
     "end_time": "2022-08-10T17:39:27.155135",
     "exception": false,
     "start_time": "2022-08-10T17:39:27.125085",
     "status": "completed"
    },
    "tags": []
   },
   "outputs": [
    {
     "data": {
      "text/plain": [
       "0    291\n",
       "1    127\n",
       "Name: Survived, dtype: int64"
      ]
     },
     "execution_count": 32,
     "metadata": {},
     "output_type": "execute_result"
    }
   ],
   "source": [
    "titanic_test['Survived'].value_counts()\n"
   ]
  },
  {
   "cell_type": "code",
   "execution_count": 33,
   "id": "ad0f2d1e",
   "metadata": {
    "execution": {
     "iopub.execute_input": "2022-08-10T17:39:27.185719Z",
     "iopub.status.busy": "2022-08-10T17:39:27.185165Z",
     "iopub.status.idle": "2022-08-10T17:39:27.193318Z",
     "shell.execute_reply": "2022-08-10T17:39:27.191931Z"
    },
    "papermill": {
     "duration": 0.026295,
     "end_time": "2022-08-10T17:39:27.196119",
     "exception": false,
     "start_time": "2022-08-10T17:39:27.169824",
     "status": "completed"
    },
    "tags": []
   },
   "outputs": [
    {
     "data": {
      "text/plain": [
       "'\\n0    291\\n1    127\\n'"
      ]
     },
     "execution_count": 33,
     "metadata": {},
     "output_type": "execute_result"
    }
   ],
   "source": [
    "#predicitons should looks like that \n",
    "'''\n",
    "0    291\n",
    "1    127\n",
    "'''"
   ]
  },
  {
   "cell_type": "code",
   "execution_count": 34,
   "id": "fbb81e71",
   "metadata": {
    "execution": {
     "iopub.execute_input": "2022-08-10T17:39:27.228878Z",
     "iopub.status.busy": "2022-08-10T17:39:27.227214Z",
     "iopub.status.idle": "2022-08-10T17:39:27.241592Z",
     "shell.execute_reply": "2022-08-10T17:39:27.240146Z"
    },
    "papermill": {
     "duration": 0.035658,
     "end_time": "2022-08-10T17:39:27.245834",
     "exception": false,
     "start_time": "2022-08-10T17:39:27.210176",
     "status": "completed"
    },
    "tags": []
   },
   "outputs": [],
   "source": [
    "titanic_test[[\"Survived\"]].to_csv(\"/kaggle/working/submission.csv\")"
   ]
  }
 ],
 "metadata": {
  "kernelspec": {
   "display_name": "Python 3",
   "language": "python",
   "name": "python3"
  },
  "language_info": {
   "codemirror_mode": {
    "name": "ipython",
    "version": 3
   },
   "file_extension": ".py",
   "mimetype": "text/x-python",
   "name": "python",
   "nbconvert_exporter": "python",
   "pygments_lexer": "ipython3",
   "version": "3.7.12"
  },
  "papermill": {
   "default_parameters": {},
   "duration": 19.491658,
   "end_time": "2022-08-10T17:39:28.386272",
   "environment_variables": {},
   "exception": null,
   "input_path": "__notebook__.ipynb",
   "output_path": "__notebook__.ipynb",
   "parameters": {},
   "start_time": "2022-08-10T17:39:08.894614",
   "version": "2.3.4"
  }
 },
 "nbformat": 4,
 "nbformat_minor": 5
}
