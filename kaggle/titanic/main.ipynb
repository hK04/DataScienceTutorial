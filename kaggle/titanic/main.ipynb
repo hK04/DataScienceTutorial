{
 "cells": [
  {
   "cell_type": "code",
   "execution_count": 1,
   "id": "c0bd9920",
   "metadata": {
    "execution": {
     "iopub.execute_input": "2022-08-09T09:05:35.347522Z",
     "iopub.status.busy": "2022-08-09T09:05:35.346453Z",
     "iopub.status.idle": "2022-08-09T09:05:36.528437Z",
     "shell.execute_reply": "2022-08-09T09:05:36.527099Z"
    },
    "papermill": {
     "duration": 1.196973,
     "end_time": "2022-08-09T09:05:36.531398",
     "exception": false,
     "start_time": "2022-08-09T09:05:35.334425",
     "status": "completed"
    },
    "tags": []
   },
   "outputs": [],
   "source": [
    "import numpy as np\n",
    "import pandas as pd\n",
    "import seaborn as sns\n",
    "from matplotlib import pyplot as plt"
   ]
  },
  {
   "cell_type": "code",
   "execution_count": 2,
   "id": "debe8acb",
   "metadata": {
    "execution": {
     "iopub.execute_input": "2022-08-09T09:05:36.551063Z",
     "iopub.status.busy": "2022-08-09T09:05:36.550614Z",
     "iopub.status.idle": "2022-08-09T09:05:36.579050Z",
     "shell.execute_reply": "2022-08-09T09:05:36.577852Z"
    },
    "papermill": {
     "duration": 0.041185,
     "end_time": "2022-08-09T09:05:36.581827",
     "exception": false,
     "start_time": "2022-08-09T09:05:36.540642",
     "status": "completed"
    },
    "tags": []
   },
   "outputs": [],
   "source": [
    "titanic_test = pd.read_csv(\"../input/titanic/train.csv\", index_col='PassengerId')"
   ]
  },
  {
   "cell_type": "code",
   "execution_count": 3,
   "id": "4badc5ec",
   "metadata": {
    "execution": {
     "iopub.execute_input": "2022-08-09T09:05:36.602111Z",
     "iopub.status.busy": "2022-08-09T09:05:36.600930Z",
     "iopub.status.idle": "2022-08-09T09:05:36.627204Z",
     "shell.execute_reply": "2022-08-09T09:05:36.625953Z"
    },
    "papermill": {
     "duration": 0.039279,
     "end_time": "2022-08-09T09:05:36.630111",
     "exception": false,
     "start_time": "2022-08-09T09:05:36.590832",
     "status": "completed"
    },
    "tags": []
   },
   "outputs": [
    {
     "data": {
      "text/html": [
       "<div>\n",
       "<style scoped>\n",
       "    .dataframe tbody tr th:only-of-type {\n",
       "        vertical-align: middle;\n",
       "    }\n",
       "\n",
       "    .dataframe tbody tr th {\n",
       "        vertical-align: top;\n",
       "    }\n",
       "\n",
       "    .dataframe thead th {\n",
       "        text-align: right;\n",
       "    }\n",
       "</style>\n",
       "<table border=\"1\" class=\"dataframe\">\n",
       "  <thead>\n",
       "    <tr style=\"text-align: right;\">\n",
       "      <th></th>\n",
       "      <th>Survived</th>\n",
       "      <th>Pclass</th>\n",
       "      <th>Name</th>\n",
       "      <th>Sex</th>\n",
       "      <th>Age</th>\n",
       "      <th>SibSp</th>\n",
       "      <th>Parch</th>\n",
       "      <th>Ticket</th>\n",
       "      <th>Fare</th>\n",
       "      <th>Cabin</th>\n",
       "      <th>Embarked</th>\n",
       "    </tr>\n",
       "    <tr>\n",
       "      <th>PassengerId</th>\n",
       "      <th></th>\n",
       "      <th></th>\n",
       "      <th></th>\n",
       "      <th></th>\n",
       "      <th></th>\n",
       "      <th></th>\n",
       "      <th></th>\n",
       "      <th></th>\n",
       "      <th></th>\n",
       "      <th></th>\n",
       "      <th></th>\n",
       "    </tr>\n",
       "  </thead>\n",
       "  <tbody>\n",
       "    <tr>\n",
       "      <th>1</th>\n",
       "      <td>0</td>\n",
       "      <td>3</td>\n",
       "      <td>Braund, Mr. Owen Harris</td>\n",
       "      <td>male</td>\n",
       "      <td>22.0</td>\n",
       "      <td>1</td>\n",
       "      <td>0</td>\n",
       "      <td>A/5 21171</td>\n",
       "      <td>7.2500</td>\n",
       "      <td>NaN</td>\n",
       "      <td>S</td>\n",
       "    </tr>\n",
       "    <tr>\n",
       "      <th>2</th>\n",
       "      <td>1</td>\n",
       "      <td>1</td>\n",
       "      <td>Cumings, Mrs. John Bradley (Florence Briggs Th...</td>\n",
       "      <td>female</td>\n",
       "      <td>38.0</td>\n",
       "      <td>1</td>\n",
       "      <td>0</td>\n",
       "      <td>PC 17599</td>\n",
       "      <td>71.2833</td>\n",
       "      <td>C85</td>\n",
       "      <td>C</td>\n",
       "    </tr>\n",
       "    <tr>\n",
       "      <th>3</th>\n",
       "      <td>1</td>\n",
       "      <td>3</td>\n",
       "      <td>Heikkinen, Miss. Laina</td>\n",
       "      <td>female</td>\n",
       "      <td>26.0</td>\n",
       "      <td>0</td>\n",
       "      <td>0</td>\n",
       "      <td>STON/O2. 3101282</td>\n",
       "      <td>7.9250</td>\n",
       "      <td>NaN</td>\n",
       "      <td>S</td>\n",
       "    </tr>\n",
       "    <tr>\n",
       "      <th>4</th>\n",
       "      <td>1</td>\n",
       "      <td>1</td>\n",
       "      <td>Futrelle, Mrs. Jacques Heath (Lily May Peel)</td>\n",
       "      <td>female</td>\n",
       "      <td>35.0</td>\n",
       "      <td>1</td>\n",
       "      <td>0</td>\n",
       "      <td>113803</td>\n",
       "      <td>53.1000</td>\n",
       "      <td>C123</td>\n",
       "      <td>S</td>\n",
       "    </tr>\n",
       "    <tr>\n",
       "      <th>5</th>\n",
       "      <td>0</td>\n",
       "      <td>3</td>\n",
       "      <td>Allen, Mr. William Henry</td>\n",
       "      <td>male</td>\n",
       "      <td>35.0</td>\n",
       "      <td>0</td>\n",
       "      <td>0</td>\n",
       "      <td>373450</td>\n",
       "      <td>8.0500</td>\n",
       "      <td>NaN</td>\n",
       "      <td>S</td>\n",
       "    </tr>\n",
       "    <tr>\n",
       "      <th>6</th>\n",
       "      <td>0</td>\n",
       "      <td>3</td>\n",
       "      <td>Moran, Mr. James</td>\n",
       "      <td>male</td>\n",
       "      <td>NaN</td>\n",
       "      <td>0</td>\n",
       "      <td>0</td>\n",
       "      <td>330877</td>\n",
       "      <td>8.4583</td>\n",
       "      <td>NaN</td>\n",
       "      <td>Q</td>\n",
       "    </tr>\n",
       "    <tr>\n",
       "      <th>7</th>\n",
       "      <td>0</td>\n",
       "      <td>1</td>\n",
       "      <td>McCarthy, Mr. Timothy J</td>\n",
       "      <td>male</td>\n",
       "      <td>54.0</td>\n",
       "      <td>0</td>\n",
       "      <td>0</td>\n",
       "      <td>17463</td>\n",
       "      <td>51.8625</td>\n",
       "      <td>E46</td>\n",
       "      <td>S</td>\n",
       "    </tr>\n",
       "    <tr>\n",
       "      <th>8</th>\n",
       "      <td>0</td>\n",
       "      <td>3</td>\n",
       "      <td>Palsson, Master. Gosta Leonard</td>\n",
       "      <td>male</td>\n",
       "      <td>2.0</td>\n",
       "      <td>3</td>\n",
       "      <td>1</td>\n",
       "      <td>349909</td>\n",
       "      <td>21.0750</td>\n",
       "      <td>NaN</td>\n",
       "      <td>S</td>\n",
       "    </tr>\n",
       "    <tr>\n",
       "      <th>9</th>\n",
       "      <td>1</td>\n",
       "      <td>3</td>\n",
       "      <td>Johnson, Mrs. Oscar W (Elisabeth Vilhelmina Berg)</td>\n",
       "      <td>female</td>\n",
       "      <td>27.0</td>\n",
       "      <td>0</td>\n",
       "      <td>2</td>\n",
       "      <td>347742</td>\n",
       "      <td>11.1333</td>\n",
       "      <td>NaN</td>\n",
       "      <td>S</td>\n",
       "    </tr>\n",
       "    <tr>\n",
       "      <th>10</th>\n",
       "      <td>1</td>\n",
       "      <td>2</td>\n",
       "      <td>Nasser, Mrs. Nicholas (Adele Achem)</td>\n",
       "      <td>female</td>\n",
       "      <td>14.0</td>\n",
       "      <td>1</td>\n",
       "      <td>0</td>\n",
       "      <td>237736</td>\n",
       "      <td>30.0708</td>\n",
       "      <td>NaN</td>\n",
       "      <td>C</td>\n",
       "    </tr>\n",
       "  </tbody>\n",
       "</table>\n",
       "</div>"
      ],
      "text/plain": [
       "             Survived  Pclass  \\\n",
       "PassengerId                     \n",
       "1                   0       3   \n",
       "2                   1       1   \n",
       "3                   1       3   \n",
       "4                   1       1   \n",
       "5                   0       3   \n",
       "6                   0       3   \n",
       "7                   0       1   \n",
       "8                   0       3   \n",
       "9                   1       3   \n",
       "10                  1       2   \n",
       "\n",
       "                                                          Name     Sex   Age  \\\n",
       "PassengerId                                                                    \n",
       "1                                      Braund, Mr. Owen Harris    male  22.0   \n",
       "2            Cumings, Mrs. John Bradley (Florence Briggs Th...  female  38.0   \n",
       "3                                       Heikkinen, Miss. Laina  female  26.0   \n",
       "4                 Futrelle, Mrs. Jacques Heath (Lily May Peel)  female  35.0   \n",
       "5                                     Allen, Mr. William Henry    male  35.0   \n",
       "6                                             Moran, Mr. James    male   NaN   \n",
       "7                                      McCarthy, Mr. Timothy J    male  54.0   \n",
       "8                               Palsson, Master. Gosta Leonard    male   2.0   \n",
       "9            Johnson, Mrs. Oscar W (Elisabeth Vilhelmina Berg)  female  27.0   \n",
       "10                         Nasser, Mrs. Nicholas (Adele Achem)  female  14.0   \n",
       "\n",
       "             SibSp  Parch            Ticket     Fare Cabin Embarked  \n",
       "PassengerId                                                          \n",
       "1                1      0         A/5 21171   7.2500   NaN        S  \n",
       "2                1      0          PC 17599  71.2833   C85        C  \n",
       "3                0      0  STON/O2. 3101282   7.9250   NaN        S  \n",
       "4                1      0            113803  53.1000  C123        S  \n",
       "5                0      0            373450   8.0500   NaN        S  \n",
       "6                0      0            330877   8.4583   NaN        Q  \n",
       "7                0      0             17463  51.8625   E46        S  \n",
       "8                3      1            349909  21.0750   NaN        S  \n",
       "9                0      2            347742  11.1333   NaN        S  \n",
       "10               1      0            237736  30.0708   NaN        C  "
      ]
     },
     "execution_count": 3,
     "metadata": {},
     "output_type": "execute_result"
    }
   ],
   "source": [
    "titanic_test.head(10)"
   ]
  },
  {
   "cell_type": "code",
   "execution_count": 4,
   "id": "18963298",
   "metadata": {
    "execution": {
     "iopub.execute_input": "2022-08-09T09:05:36.649827Z",
     "iopub.status.busy": "2022-08-09T09:05:36.649425Z",
     "iopub.status.idle": "2022-08-09T09:05:36.656511Z",
     "shell.execute_reply": "2022-08-09T09:05:36.655479Z"
    },
    "papermill": {
     "duration": 0.019903,
     "end_time": "2022-08-09T09:05:36.659087",
     "exception": false,
     "start_time": "2022-08-09T09:05:36.639184",
     "status": "completed"
    },
    "tags": []
   },
   "outputs": [],
   "source": [
    "#let's normalize the class\n",
    "titanic_test['Pclass'] = round(titanic_test['Pclass'] / 3, 3)"
   ]
  },
  {
   "cell_type": "code",
   "execution_count": 5,
   "id": "68c14042",
   "metadata": {
    "execution": {
     "iopub.execute_input": "2022-08-09T09:05:36.679403Z",
     "iopub.status.busy": "2022-08-09T09:05:36.678383Z",
     "iopub.status.idle": "2022-08-09T09:05:36.684441Z",
     "shell.execute_reply": "2022-08-09T09:05:36.683602Z"
    },
    "papermill": {
     "duration": 0.018293,
     "end_time": "2022-08-09T09:05:36.686639",
     "exception": false,
     "start_time": "2022-08-09T09:05:36.668346",
     "status": "completed"
    },
    "tags": []
   },
   "outputs": [],
   "source": [
    "#let's normalize the sex\n",
    "titanic_test['Sex'] = (titanic_test['Sex'] == 'male').astype(int)"
   ]
  },
  {
   "cell_type": "code",
   "execution_count": 6,
   "id": "8e0e8334",
   "metadata": {
    "execution": {
     "iopub.execute_input": "2022-08-09T09:05:36.706603Z",
     "iopub.status.busy": "2022-08-09T09:05:36.705621Z",
     "iopub.status.idle": "2022-08-09T09:05:36.741324Z",
     "shell.execute_reply": "2022-08-09T09:05:36.740130Z"
    },
    "papermill": {
     "duration": 0.048362,
     "end_time": "2022-08-09T09:05:36.743948",
     "exception": false,
     "start_time": "2022-08-09T09:05:36.695586",
     "status": "completed"
    },
    "tags": []
   },
   "outputs": [
    {
     "data": {
      "text/html": [
       "<div>\n",
       "<style scoped>\n",
       "    .dataframe tbody tr th:only-of-type {\n",
       "        vertical-align: middle;\n",
       "    }\n",
       "\n",
       "    .dataframe tbody tr th {\n",
       "        vertical-align: top;\n",
       "    }\n",
       "\n",
       "    .dataframe thead th {\n",
       "        text-align: right;\n",
       "    }\n",
       "</style>\n",
       "<table border=\"1\" class=\"dataframe\">\n",
       "  <thead>\n",
       "    <tr style=\"text-align: right;\">\n",
       "      <th></th>\n",
       "      <th>Survived</th>\n",
       "      <th>Pclass</th>\n",
       "      <th>Sex</th>\n",
       "      <th>Age</th>\n",
       "      <th>SibSp</th>\n",
       "      <th>Parch</th>\n",
       "      <th>Fare</th>\n",
       "    </tr>\n",
       "  </thead>\n",
       "  <tbody>\n",
       "    <tr>\n",
       "      <th>count</th>\n",
       "      <td>891.000000</td>\n",
       "      <td>891.000000</td>\n",
       "      <td>891.000000</td>\n",
       "      <td>714.000000</td>\n",
       "      <td>891.000000</td>\n",
       "      <td>891.000000</td>\n",
       "      <td>891.000000</td>\n",
       "    </tr>\n",
       "    <tr>\n",
       "      <th>mean</th>\n",
       "      <td>0.383838</td>\n",
       "      <td>0.769535</td>\n",
       "      <td>0.647587</td>\n",
       "      <td>29.699118</td>\n",
       "      <td>0.523008</td>\n",
       "      <td>0.381594</td>\n",
       "      <td>32.204208</td>\n",
       "    </tr>\n",
       "    <tr>\n",
       "      <th>std</th>\n",
       "      <td>0.486592</td>\n",
       "      <td>0.278792</td>\n",
       "      <td>0.477990</td>\n",
       "      <td>14.526497</td>\n",
       "      <td>1.102743</td>\n",
       "      <td>0.806057</td>\n",
       "      <td>49.693429</td>\n",
       "    </tr>\n",
       "    <tr>\n",
       "      <th>min</th>\n",
       "      <td>0.000000</td>\n",
       "      <td>0.333000</td>\n",
       "      <td>0.000000</td>\n",
       "      <td>0.420000</td>\n",
       "      <td>0.000000</td>\n",
       "      <td>0.000000</td>\n",
       "      <td>0.000000</td>\n",
       "    </tr>\n",
       "    <tr>\n",
       "      <th>25%</th>\n",
       "      <td>0.000000</td>\n",
       "      <td>0.667000</td>\n",
       "      <td>0.000000</td>\n",
       "      <td>20.125000</td>\n",
       "      <td>0.000000</td>\n",
       "      <td>0.000000</td>\n",
       "      <td>7.910400</td>\n",
       "    </tr>\n",
       "    <tr>\n",
       "      <th>50%</th>\n",
       "      <td>0.000000</td>\n",
       "      <td>1.000000</td>\n",
       "      <td>1.000000</td>\n",
       "      <td>28.000000</td>\n",
       "      <td>0.000000</td>\n",
       "      <td>0.000000</td>\n",
       "      <td>14.454200</td>\n",
       "    </tr>\n",
       "    <tr>\n",
       "      <th>75%</th>\n",
       "      <td>1.000000</td>\n",
       "      <td>1.000000</td>\n",
       "      <td>1.000000</td>\n",
       "      <td>38.000000</td>\n",
       "      <td>1.000000</td>\n",
       "      <td>0.000000</td>\n",
       "      <td>31.000000</td>\n",
       "    </tr>\n",
       "    <tr>\n",
       "      <th>max</th>\n",
       "      <td>1.000000</td>\n",
       "      <td>1.000000</td>\n",
       "      <td>1.000000</td>\n",
       "      <td>80.000000</td>\n",
       "      <td>8.000000</td>\n",
       "      <td>6.000000</td>\n",
       "      <td>512.329200</td>\n",
       "    </tr>\n",
       "  </tbody>\n",
       "</table>\n",
       "</div>"
      ],
      "text/plain": [
       "         Survived      Pclass         Sex         Age       SibSp       Parch  \\\n",
       "count  891.000000  891.000000  891.000000  714.000000  891.000000  891.000000   \n",
       "mean     0.383838    0.769535    0.647587   29.699118    0.523008    0.381594   \n",
       "std      0.486592    0.278792    0.477990   14.526497    1.102743    0.806057   \n",
       "min      0.000000    0.333000    0.000000    0.420000    0.000000    0.000000   \n",
       "25%      0.000000    0.667000    0.000000   20.125000    0.000000    0.000000   \n",
       "50%      0.000000    1.000000    1.000000   28.000000    0.000000    0.000000   \n",
       "75%      1.000000    1.000000    1.000000   38.000000    1.000000    0.000000   \n",
       "max      1.000000    1.000000    1.000000   80.000000    8.000000    6.000000   \n",
       "\n",
       "             Fare  \n",
       "count  891.000000  \n",
       "mean    32.204208  \n",
       "std     49.693429  \n",
       "min      0.000000  \n",
       "25%      7.910400  \n",
       "50%     14.454200  \n",
       "75%     31.000000  \n",
       "max    512.329200  "
      ]
     },
     "execution_count": 6,
     "metadata": {},
     "output_type": "execute_result"
    }
   ],
   "source": [
    "titanic_test.describe()"
   ]
  },
  {
   "cell_type": "code",
   "execution_count": 7,
   "id": "a592b20d",
   "metadata": {
    "execution": {
     "iopub.execute_input": "2022-08-09T09:05:36.764194Z",
     "iopub.status.busy": "2022-08-09T09:05:36.763722Z",
     "iopub.status.idle": "2022-08-09T09:05:36.782141Z",
     "shell.execute_reply": "2022-08-09T09:05:36.781167Z"
    },
    "papermill": {
     "duration": 0.032269,
     "end_time": "2022-08-09T09:05:36.785597",
     "exception": false,
     "start_time": "2022-08-09T09:05:36.753328",
     "status": "completed"
    },
    "tags": []
   },
   "outputs": [
    {
     "name": "stdout",
     "output_type": "stream",
     "text": [
      "<class 'pandas.core.frame.DataFrame'>\n",
      "Int64Index: 891 entries, 1 to 891\n",
      "Data columns (total 11 columns):\n",
      " #   Column    Non-Null Count  Dtype  \n",
      "---  ------    --------------  -----  \n",
      " 0   Survived  891 non-null    int64  \n",
      " 1   Pclass    891 non-null    float64\n",
      " 2   Name      891 non-null    object \n",
      " 3   Sex       891 non-null    int64  \n",
      " 4   Age       714 non-null    float64\n",
      " 5   SibSp     891 non-null    int64  \n",
      " 6   Parch     891 non-null    int64  \n",
      " 7   Ticket    891 non-null    object \n",
      " 8   Fare      891 non-null    float64\n",
      " 9   Cabin     204 non-null    object \n",
      " 10  Embarked  889 non-null    object \n",
      "dtypes: float64(3), int64(4), object(4)\n",
      "memory usage: 83.5+ KB\n"
     ]
    }
   ],
   "source": [
    "titanic_test.info()"
   ]
  },
  {
   "cell_type": "code",
   "execution_count": 8,
   "id": "687a68cf",
   "metadata": {
    "execution": {
     "iopub.execute_input": "2022-08-09T09:05:36.808150Z",
     "iopub.status.busy": "2022-08-09T09:05:36.807088Z",
     "iopub.status.idle": "2022-08-09T09:05:36.820585Z",
     "shell.execute_reply": "2022-08-09T09:05:36.819410Z"
    },
    "papermill": {
     "duration": 0.02645,
     "end_time": "2022-08-09T09:05:36.822993",
     "exception": false,
     "start_time": "2022-08-09T09:05:36.796543",
     "status": "completed"
    },
    "tags": []
   },
   "outputs": [
    {
     "data": {
      "text/plain": [
       "1.0    644\n",
       "0.5    168\n",
       "0.0     77\n",
       "Name: Embarked, dtype: int64"
      ]
     },
     "execution_count": 8,
     "metadata": {},
     "output_type": "execute_result"
    }
   ],
   "source": [
    "#let's normalize embarked \n",
    "# Southampton = S, Cherbourg = C, and Queenstown = Q\n",
    "titanic_test[\"Embarked\"].value_counts()\n",
    "titanic_test.loc[titanic_test[\"Embarked\"] == \"S\", \"Embarked\"] = 1\n",
    "titanic_test.loc[titanic_test[\"Embarked\"] == \"C\", \"Embarked\"] = 0.5\n",
    "titanic_test.loc[titanic_test[\"Embarked\"] == \"Q\", \"Embarked\"] = 0\n",
    "titanic_test[\"Embarked\"].value_counts()"
   ]
  },
  {
   "cell_type": "code",
   "execution_count": 9,
   "id": "9dba74af",
   "metadata": {
    "execution": {
     "iopub.execute_input": "2022-08-09T09:05:36.843684Z",
     "iopub.status.busy": "2022-08-09T09:05:36.843274Z",
     "iopub.status.idle": "2022-08-09T09:05:36.849106Z",
     "shell.execute_reply": "2022-08-09T09:05:36.848236Z"
    },
    "papermill": {
     "duration": 0.018856,
     "end_time": "2022-08-09T09:05:36.851321",
     "exception": false,
     "start_time": "2022-08-09T09:05:36.832465",
     "status": "completed"
    },
    "tags": []
   },
   "outputs": [],
   "source": [
    "#normalize the Fare\n",
    "titanic_test[\"Fare\"] = round(titanic_test[\"Fare\"] / titanic_test[\"Fare\"].mean(), 3)"
   ]
  },
  {
   "cell_type": "code",
   "execution_count": 10,
   "id": "ce7398a1",
   "metadata": {
    "execution": {
     "iopub.execute_input": "2022-08-09T09:05:36.872763Z",
     "iopub.status.busy": "2022-08-09T09:05:36.872065Z",
     "iopub.status.idle": "2022-08-09T09:05:36.878835Z",
     "shell.execute_reply": "2022-08-09T09:05:36.877944Z"
    },
    "papermill": {
     "duration": 0.020252,
     "end_time": "2022-08-09T09:05:36.881196",
     "exception": false,
     "start_time": "2022-08-09T09:05:36.860944",
     "status": "completed"
    },
    "tags": []
   },
   "outputs": [],
   "source": [
    "#add new parametr rich and find normalized values\n",
    "titanic_test[\"Rich\"] = titanic_test[\"Fare\"] * titanic_test[\"Pclass\"]\n",
    "titanic_test[\"Rich\"] = round(titanic_test[\"Rich\"] / titanic_test[\"Rich\"].max(), 3)"
   ]
  },
  {
   "cell_type": "code",
   "execution_count": 11,
   "id": "3bed68bc",
   "metadata": {
    "execution": {
     "iopub.execute_input": "2022-08-09T09:05:36.902237Z",
     "iopub.status.busy": "2022-08-09T09:05:36.901846Z",
     "iopub.status.idle": "2022-08-09T09:05:36.908137Z",
     "shell.execute_reply": "2022-08-09T09:05:36.907198Z"
    },
    "papermill": {
     "duration": 0.019703,
     "end_time": "2022-08-09T09:05:36.910454",
     "exception": false,
     "start_time": "2022-08-09T09:05:36.890751",
     "status": "completed"
    },
    "tags": []
   },
   "outputs": [],
   "source": [
    "#normalize the Age \n",
    "titanic_test[\"Age\"] = titanic_test[\"Age\"] / titanic_test[\"Age\"].mean()\n",
    "titanic_test[\"Age\"] = round(titanic_test[\"Age\"] / titanic_test[\"Age\"].max(), 3)"
   ]
  },
  {
   "cell_type": "code",
   "execution_count": 12,
   "id": "ce3493c7",
   "metadata": {
    "execution": {
     "iopub.execute_input": "2022-08-09T09:05:36.931633Z",
     "iopub.status.busy": "2022-08-09T09:05:36.930908Z",
     "iopub.status.idle": "2022-08-09T09:05:36.938033Z",
     "shell.execute_reply": "2022-08-09T09:05:36.937046Z"
    },
    "papermill": {
     "duration": 0.02063,
     "end_time": "2022-08-09T09:05:36.940537",
     "exception": false,
     "start_time": "2022-08-09T09:05:36.919907",
     "status": "completed"
    },
    "tags": []
   },
   "outputs": [],
   "source": [
    "#normalize the SibSp and Parch\n",
    "titanic_test[\"SibSp\"] = round(titanic_test[\"SibSp\"] / titanic_test[\"SibSp\"].max(), 3)\n",
    "titanic_test[\"Parch\"] = round(titanic_test[\"Parch\"] / titanic_test[\"Parch\"].max(), 3)"
   ]
  },
  {
   "cell_type": "code",
   "execution_count": 13,
   "id": "7d07262e",
   "metadata": {
    "execution": {
     "iopub.execute_input": "2022-08-09T09:05:36.961237Z",
     "iopub.status.busy": "2022-08-09T09:05:36.960771Z",
     "iopub.status.idle": "2022-08-09T09:05:36.979110Z",
     "shell.execute_reply": "2022-08-09T09:05:36.978230Z"
    },
    "papermill": {
     "duration": 0.031461,
     "end_time": "2022-08-09T09:05:36.981395",
     "exception": false,
     "start_time": "2022-08-09T09:05:36.949934",
     "status": "completed"
    },
    "tags": []
   },
   "outputs": [
    {
     "data": {
      "text/html": [
       "<div>\n",
       "<style scoped>\n",
       "    .dataframe tbody tr th:only-of-type {\n",
       "        vertical-align: middle;\n",
       "    }\n",
       "\n",
       "    .dataframe tbody tr th {\n",
       "        vertical-align: top;\n",
       "    }\n",
       "\n",
       "    .dataframe thead th {\n",
       "        text-align: right;\n",
       "    }\n",
       "</style>\n",
       "<table border=\"1\" class=\"dataframe\">\n",
       "  <thead>\n",
       "    <tr style=\"text-align: right;\">\n",
       "      <th></th>\n",
       "      <th>Sex</th>\n",
       "      <th>Age</th>\n",
       "      <th>SibSp</th>\n",
       "      <th>Parch</th>\n",
       "      <th>Rich</th>\n",
       "      <th>Survived</th>\n",
       "    </tr>\n",
       "  </thead>\n",
       "  <tbody>\n",
       "    <tr>\n",
       "      <th>Sex</th>\n",
       "      <td>1.000000</td>\n",
       "      <td>0.093286</td>\n",
       "      <td>-0.114631</td>\n",
       "      <td>-0.245521</td>\n",
       "      <td>-0.186625</td>\n",
       "      <td>-0.543351</td>\n",
       "    </tr>\n",
       "    <tr>\n",
       "      <th>Age</th>\n",
       "      <td>0.093286</td>\n",
       "      <td>1.000000</td>\n",
       "      <td>-0.308303</td>\n",
       "      <td>-0.189177</td>\n",
       "      <td>-0.034823</td>\n",
       "      <td>-0.077231</td>\n",
       "    </tr>\n",
       "    <tr>\n",
       "      <th>SibSp</th>\n",
       "      <td>-0.114631</td>\n",
       "      <td>-0.308303</td>\n",
       "      <td>1.000000</td>\n",
       "      <td>0.414788</td>\n",
       "      <td>0.425767</td>\n",
       "      <td>-0.035322</td>\n",
       "    </tr>\n",
       "    <tr>\n",
       "      <th>Parch</th>\n",
       "      <td>-0.245521</td>\n",
       "      <td>-0.189177</td>\n",
       "      <td>0.414788</td>\n",
       "      <td>1.000000</td>\n",
       "      <td>0.391903</td>\n",
       "      <td>0.081704</td>\n",
       "    </tr>\n",
       "    <tr>\n",
       "      <th>Rich</th>\n",
       "      <td>-0.186625</td>\n",
       "      <td>-0.034823</td>\n",
       "      <td>0.425767</td>\n",
       "      <td>0.391903</td>\n",
       "      <td>1.000000</td>\n",
       "      <td>0.183695</td>\n",
       "    </tr>\n",
       "    <tr>\n",
       "      <th>Survived</th>\n",
       "      <td>-0.543351</td>\n",
       "      <td>-0.077231</td>\n",
       "      <td>-0.035322</td>\n",
       "      <td>0.081704</td>\n",
       "      <td>0.183695</td>\n",
       "      <td>1.000000</td>\n",
       "    </tr>\n",
       "  </tbody>\n",
       "</table>\n",
       "</div>"
      ],
      "text/plain": [
       "               Sex       Age     SibSp     Parch      Rich  Survived\n",
       "Sex       1.000000  0.093286 -0.114631 -0.245521 -0.186625 -0.543351\n",
       "Age       0.093286  1.000000 -0.308303 -0.189177 -0.034823 -0.077231\n",
       "SibSp    -0.114631 -0.308303  1.000000  0.414788  0.425767 -0.035322\n",
       "Parch    -0.245521 -0.189177  0.414788  1.000000  0.391903  0.081704\n",
       "Rich     -0.186625 -0.034823  0.425767  0.391903  1.000000  0.183695\n",
       "Survived -0.543351 -0.077231 -0.035322  0.081704  0.183695  1.000000"
      ]
     },
     "execution_count": 13,
     "metadata": {},
     "output_type": "execute_result"
    }
   ],
   "source": [
    "new_data = titanic_test[[\"Sex\", \"Age\", \"Embarked\", \"SibSp\", \"Parch\", \"Rich\", \"Survived\"]]\n",
    "new_data.corr()"
   ]
  },
  {
   "cell_type": "code",
   "execution_count": 14,
   "id": "b9c7df5a",
   "metadata": {
    "execution": {
     "iopub.execute_input": "2022-08-09T09:05:37.003126Z",
     "iopub.status.busy": "2022-08-09T09:05:37.002339Z",
     "iopub.status.idle": "2022-08-09T09:05:37.394178Z",
     "shell.execute_reply": "2022-08-09T09:05:37.392819Z"
    },
    "papermill": {
     "duration": 0.405653,
     "end_time": "2022-08-09T09:05:37.396860",
     "exception": false,
     "start_time": "2022-08-09T09:05:36.991207",
     "status": "completed"
    },
    "tags": []
   },
   "outputs": [
    {
     "data": {
      "text/plain": [
       "<AxesSubplot:>"
      ]
     },
     "execution_count": 14,
     "metadata": {},
     "output_type": "execute_result"
    },
    {
     "data": {
      "image/png": "[encoded data removed]",
      "text/plain": [
       "<Figure size 432x288 with 2 Axes>"
      ]
     },
     "metadata": {
      "needs_background": "light"
     },
     "output_type": "display_data"
    }
   ],
   "source": [
    "sns.heatmap(new_data.corr(), cmap='coolwarm', vmin = -1, vmax = 1, annot = True)"
   ]
  },
  {
   "cell_type": "code",
   "execution_count": 15,
   "id": "c005e4f1",
   "metadata": {
    "execution": {
     "iopub.execute_input": "2022-08-09T09:05:37.419168Z",
     "iopub.status.busy": "2022-08-09T09:05:37.418751Z",
     "iopub.status.idle": "2022-08-09T09:05:37.425149Z",
     "shell.execute_reply": "2022-08-09T09:05:37.424251Z"
    },
    "papermill": {
     "duration": 0.019934,
     "end_time": "2022-08-09T09:05:37.427217",
     "exception": false,
     "start_time": "2022-08-09T09:05:37.407283",
     "status": "completed"
    },
    "tags": []
   },
   "outputs": [],
   "source": [
    "#let's get to Logistic Regression\n",
    "def sigmoid(x):\n",
    "    return 1 / (1 + np.exp(-x))\n",
    "\n",
    "def soft_sign(x, eps = 1e-7):\n",
    "    if abs(x) > eps:\n",
    "        return np.sign(x)\n",
    "    return x / eps\n",
    "\n",
    "np_soft_sign = np.vectorize(soft_sign)\n",
    "\n",
    "threshold = 0.5"
   ]
  },
  {
   "cell_type": "code",
   "execution_count": 16,
   "id": "a482199c",
   "metadata": {
    "execution": {
     "iopub.execute_input": "2022-08-09T09:05:37.449707Z",
     "iopub.status.busy": "2022-08-09T09:05:37.448968Z",
     "iopub.status.idle": "2022-08-09T09:05:37.454774Z",
     "shell.execute_reply": "2022-08-09T09:05:37.453573Z"
    },
    "papermill": {
     "duration": 0.019888,
     "end_time": "2022-08-09T09:05:37.457279",
     "exception": false,
     "start_time": "2022-08-09T09:05:37.437391",
     "status": "completed"
    },
    "tags": []
   },
   "outputs": [],
   "source": [
    "def logit(x, w):\n",
    "    return np.dot(x, w)"
   ]
  },
  {
   "cell_type": "code",
   "execution_count": 17,
   "id": "c8f4d489",
   "metadata": {
    "execution": {
     "iopub.execute_input": "2022-08-09T09:05:37.480572Z",
     "iopub.status.busy": "2022-08-09T09:05:37.479763Z",
     "iopub.status.idle": "2022-08-09T09:05:37.496620Z",
     "shell.execute_reply": "2022-08-09T09:05:37.495379Z"
    },
    "papermill": {
     "duration": 0.031654,
     "end_time": "2022-08-09T09:05:37.499387",
     "exception": false,
     "start_time": "2022-08-09T09:05:37.467733",
     "status": "completed"
    },
    "tags": []
   },
   "outputs": [],
   "source": [
    "class LogisticRegression():\n",
    "    def __init__ (self, fit_intercept = 1, coef_1 = 1, coef_2 = 1):\n",
    "        self.fit_intercept = fit_intercept\n",
    "        self.w = None\n",
    "        self.loss = []\n",
    "        self.coef_1 = coef_1\n",
    "        self.coef_2 = coef_2 \n",
    "\n",
    "    def fit(self, X, y, epochs = 10, lr = 0.1, batch_size = 100):\n",
    "        n, k = X.shape\n",
    "        if self.w is None:\n",
    "            np.random.seed(42)\n",
    "            self.w = np.random.randn(k + 1)\n",
    "\n",
    "        for i in range(epochs): #rough but tough batch implementation\n",
    "            for X_batch, y_batch in self.generate_batch(X, y, batch_size):\n",
    "\n",
    "                y_pred = sigmoid(logit(X_batch, self.w))\n",
    "\n",
    "                self.w -= self.calculate_gradient(X_batch, y_batch, y_pred) * lr\n",
    "        \n",
    "\n",
    "                self.loss.append(self.__loss(y_batch, y_pred))\n",
    "\n",
    "\n",
    "    def calculate_gradient(self, X, y, y_pred):\n",
    "        signw = np_soft_sign(self.w)\n",
    "\n",
    "        grad_basic = logit(X.T, (y_pred - y))\n",
    "        \n",
    "        grad_l1 = signw * self.coef_1\n",
    "        grad_l2 = 2 * self.coef_2 * self.w\n",
    "\n",
    "        grad_l1[0] = grad_l2[0] = 0\n",
    "\n",
    "        return grad_basic + grad_l1 + grad_l2\n",
    "    \n",
    "    def generate_batch(self, X, y, batch_size):\n",
    "        n, k = X.shape\n",
    "        X_train = np.concatenate((np.ones((n, 1)), X), axis = 1)\n",
    "        id_s = np.arange(n)\n",
    "        id = 0\n",
    "        while ((id < n) and (id + batch_size < n)):\n",
    "            yield  (X_train[id: id + batch_size],\n",
    "                    y[id: id + batch_size])\n",
    "            id += batch_size\n",
    "\n",
    "\n",
    "    def predict(self, X):\n",
    "        return self.predict_prob(X) >= threshold \n",
    "\n",
    "    def predict_prob(self, X):\n",
    "        n, k = X.shape\n",
    "        X = np.concatenate((np.ones((n, 1)), X), axis=1)\n",
    "        return sigmoid(X @ self.w)\n",
    "\n",
    "    def get_weights(self):\n",
    "        return self.w.copy() \n",
    "    \n",
    "    def get_loss(self):\n",
    "        return self.loss.copy()\n",
    "\n",
    "    def __loss(self, y, p):\n",
    "        p = np.clip(p, 1e-7, 1 - 1e-7)\n",
    "        return -np.sum(y * np.log(p) + (1 - y) * np.log(1 - p)) / len(y)"
   ]
  },
  {
   "cell_type": "markdown",
   "id": "24883aef",
   "metadata": {
    "papermill": {
     "duration": 0.010038,
     "end_time": "2022-08-09T09:05:37.519749",
     "exception": false,
     "start_time": "2022-08-09T09:05:37.509711",
     "status": "completed"
    },
    "tags": []
   },
   "source": [
    "Get data from pandas\n"
   ]
  },
  {
   "cell_type": "code",
   "execution_count": 18,
   "id": "05dfab72",
   "metadata": {
    "execution": {
     "iopub.execute_input": "2022-08-09T09:05:37.541984Z",
     "iopub.status.busy": "2022-08-09T09:05:37.541588Z",
     "iopub.status.idle": "2022-08-09T09:05:37.552759Z",
     "shell.execute_reply": "2022-08-09T09:05:37.551434Z"
    },
    "papermill": {
     "duration": 0.025411,
     "end_time": "2022-08-09T09:05:37.555270",
     "exception": false,
     "start_time": "2022-08-09T09:05:37.529859",
     "status": "completed"
    },
    "tags": []
   },
   "outputs": [],
   "source": [
    "new_data = titanic_test[[\"Sex\", \"Age\", \"Embarked\", \"SibSp\", \"Parch\", \"Rich\", \"Survived\"]].dropna()\n",
    "X = new_data[[\"Sex\", \"Age\", \"Embarked\", \"SibSp\", \"Parch\", \"Rich\"]].to_numpy(float)\n",
    "y = new_data[\"Survived\"].to_numpy(float)"
   ]
  },
  {
   "cell_type": "code",
   "execution_count": 19,
   "id": "763a6d6b",
   "metadata": {
    "execution": {
     "iopub.execute_input": "2022-08-09T09:05:37.578497Z",
     "iopub.status.busy": "2022-08-09T09:05:37.578045Z",
     "iopub.status.idle": "2022-08-09T09:05:37.586816Z",
     "shell.execute_reply": "2022-08-09T09:05:37.585503Z"
    },
    "papermill": {
     "duration": 0.023204,
     "end_time": "2022-08-09T09:05:37.589172",
     "exception": false,
     "start_time": "2022-08-09T09:05:37.565968",
     "status": "completed"
    },
    "tags": []
   },
   "outputs": [],
   "source": [
    "#let's separate data to X_train, y_train, X_test, y_test\n",
    "def train_test_split(X, y, alpha = 0.5):\n",
    "    n_1, k_1 = X.shape\n",
    "    X_train = X[ :int(n_1 * alpha)]\n",
    "    X_test = X[int(n_1 * alpha): ]\n",
    "    y_train = y[ :int(n_1 * alpha)]\n",
    "    y_test = y[int(n_1 * alpha): ]\n",
    "    return X_train, X_test, y_train, y_test\n",
    "\n",
    "#let's build train_test_split with shuffle \n",
    "def train_test_split_shuffle(X, y, alpha = 0.5):\n",
    "    n_1, k_1 = X.shape\n",
    "    ids = np.arange(n_1)\n",
    "    np.random.shuffle(ids)\n",
    "    len_of_part = int(n_1 * alpha)\n",
    "    id_first = ids[: len_of_part]\n",
    "    id_second = ids[len_of_part: ]\n",
    "    X_train, X_test, y_train, y_test = X[id_first], X[id_second], y[id_first], y[id_second]\n",
    "    return X_train, X_test, y_train, y_test"
   ]
  },
  {
   "cell_type": "code",
   "execution_count": 20,
   "id": "5f371ba5",
   "metadata": {
    "execution": {
     "iopub.execute_input": "2022-08-09T09:05:37.612262Z",
     "iopub.status.busy": "2022-08-09T09:05:37.611424Z",
     "iopub.status.idle": "2022-08-09T09:05:37.617230Z",
     "shell.execute_reply": "2022-08-09T09:05:37.616271Z"
    },
    "papermill": {
     "duration": 0.019984,
     "end_time": "2022-08-09T09:05:37.619598",
     "exception": false,
     "start_time": "2022-08-09T09:05:37.599614",
     "status": "completed"
    },
    "tags": []
   },
   "outputs": [],
   "source": [
    "#metrics \n",
    "def mean_squared_error(y, y_pred): #not right metrics for that \n",
    "    res = y - y_pred\n",
    "    res = res ** 2\n",
    "    return res.sum() / y.size\n",
    "\n",
    "def mean_absolute_error():\n",
    "    pass\n"
   ]
  },
  {
   "cell_type": "code",
   "execution_count": 21,
   "id": "561402b9",
   "metadata": {
    "execution": {
     "iopub.execute_input": "2022-08-09T09:05:37.642429Z",
     "iopub.status.busy": "2022-08-09T09:05:37.641612Z",
     "iopub.status.idle": "2022-08-09T09:05:37.648391Z",
     "shell.execute_reply": "2022-08-09T09:05:37.647002Z"
    },
    "papermill": {
     "duration": 0.020985,
     "end_time": "2022-08-09T09:05:37.650796",
     "exception": false,
     "start_time": "2022-08-09T09:05:37.629811",
     "status": "completed"
    },
    "tags": []
   },
   "outputs": [
    {
     "name": "stdout",
     "output_type": "stream",
     "text": [
      "356\n",
      "356\n"
     ]
    }
   ],
   "source": [
    "X_train, X_test, y_train, y_test = train_test_split_shuffle(X, y)\n",
    "print(X_train.shape[0])\n",
    "print(X_test.shape[0])"
   ]
  },
  {
   "cell_type": "code",
   "execution_count": 22,
   "id": "87ef1b34",
   "metadata": {
    "execution": {
     "iopub.execute_input": "2022-08-09T09:05:37.673360Z",
     "iopub.status.busy": "2022-08-09T09:05:37.672894Z",
     "iopub.status.idle": "2022-08-09T09:05:37.679180Z",
     "shell.execute_reply": "2022-08-09T09:05:37.677713Z"
    },
    "papermill": {
     "duration": 0.020605,
     "end_time": "2022-08-09T09:05:37.681758",
     "exception": false,
     "start_time": "2022-08-09T09:05:37.661153",
     "status": "completed"
    },
    "tags": []
   },
   "outputs": [],
   "source": [
    "coef1 = np.linspace(1, 5, 20)\n",
    "coef2 = np.linspace(1, 5, 20)"
   ]
  },
  {
   "cell_type": "code",
   "execution_count": 23,
   "id": "37f7488b",
   "metadata": {
    "execution": {
     "iopub.execute_input": "2022-08-09T09:05:37.705618Z",
     "iopub.status.busy": "2022-08-09T09:05:37.704362Z",
     "iopub.status.idle": "2022-08-09T09:05:38.312053Z",
     "shell.execute_reply": "2022-08-09T09:05:38.310741Z"
    },
    "papermill": {
     "duration": 0.622613,
     "end_time": "2022-08-09T09:05:38.315079",
     "exception": false,
     "start_time": "2022-08-09T09:05:37.692466",
     "status": "completed"
    },
    "tags": []
   },
   "outputs": [],
   "source": [
    "optimum = [coef1[0], coef2[0]]\n",
    "res = 1\n",
    "\n",
    "for i in coef1:\n",
    "    for j in coef2:\n",
    "        clf = LogisticRegression(coef_1 = i, coef_2 = j)\n",
    "        clf.fit(X_train, y_train, epochs=5)\n",
    "        prediction = clf.predict(X_test).astype(int)\n",
    "        if mean_squared_error(prediction, y_test) < res:\n",
    "            optimum[0] = i\n",
    "            optimum[1] = j\n",
    "            res = mean_squared_error(prediction, y_test)"
   ]
  },
  {
   "cell_type": "code",
   "execution_count": 24,
   "id": "f50bd651",
   "metadata": {
    "execution": {
     "iopub.execute_input": "2022-08-09T09:05:38.337737Z",
     "iopub.status.busy": "2022-08-09T09:05:38.337315Z",
     "iopub.status.idle": "2022-08-09T09:05:38.343630Z",
     "shell.execute_reply": "2022-08-09T09:05:38.342241Z"
    },
    "papermill": {
     "duration": 0.021102,
     "end_time": "2022-08-09T09:05:38.346651",
     "exception": false,
     "start_time": "2022-08-09T09:05:38.325549",
     "status": "completed"
    },
    "tags": []
   },
   "outputs": [
    {
     "name": "stdout",
     "output_type": "stream",
     "text": [
      "[3.1052631578947367, 2.052631578947368]\n",
      "0.25842696629213485\n"
     ]
    }
   ],
   "source": [
    "print(optimum)\n",
    "print(res)"
   ]
  },
  {
   "cell_type": "code",
   "execution_count": 25,
   "id": "626981c1",
   "metadata": {
    "execution": {
     "iopub.execute_input": "2022-08-09T09:05:38.370714Z",
     "iopub.status.busy": "2022-08-09T09:05:38.369604Z",
     "iopub.status.idle": "2022-08-09T09:05:38.383616Z",
     "shell.execute_reply": "2022-08-09T09:05:38.382653Z"
    },
    "papermill": {
     "duration": 0.028661,
     "end_time": "2022-08-09T09:05:38.386365",
     "exception": false,
     "start_time": "2022-08-09T09:05:38.357704",
     "status": "completed"
    },
    "tags": []
   },
   "outputs": [],
   "source": [
    "clf = LogisticRegression(optimum[0], optimum[1])\n",
    "clf.fit(X, y, epochs=10)\n"
   ]
  },
  {
   "cell_type": "code",
   "execution_count": 26,
   "id": "46f7d025",
   "metadata": {
    "execution": {
     "iopub.execute_input": "2022-08-09T09:05:38.409943Z",
     "iopub.status.busy": "2022-08-09T09:05:38.409203Z",
     "iopub.status.idle": "2022-08-09T09:05:38.417626Z",
     "shell.execute_reply": "2022-08-09T09:05:38.416428Z"
    },
    "papermill": {
     "duration": 0.022758,
     "end_time": "2022-08-09T09:05:38.419870",
     "exception": false,
     "start_time": "2022-08-09T09:05:38.397112",
     "status": "completed"
    },
    "tags": []
   },
   "outputs": [
    {
     "data": {
      "text/plain": [
       "False    453\n",
       "True     259\n",
       "dtype: int64"
      ]
     },
     "execution_count": 26,
     "metadata": {},
     "output_type": "execute_result"
    }
   ],
   "source": [
    "prediction = clf.predict(X)\n",
    "pd.Series(prediction).value_counts()"
   ]
  },
  {
   "cell_type": "code",
   "execution_count": 27,
   "id": "5663d5d3",
   "metadata": {
    "execution": {
     "iopub.execute_input": "2022-08-09T09:05:38.442799Z",
     "iopub.status.busy": "2022-08-09T09:05:38.442388Z",
     "iopub.status.idle": "2022-08-09T09:05:38.649609Z",
     "shell.execute_reply": "2022-08-09T09:05:38.648064Z"
    },
    "papermill": {
     "duration": 0.221957,
     "end_time": "2022-08-09T09:05:38.652468",
     "exception": false,
     "start_time": "2022-08-09T09:05:38.430511",
     "status": "completed"
    },
    "tags": []
   },
   "outputs": [
    {
     "data": {
      "image/png": "[encoded data removed]",
      "text/plain": [
       "<Figure size 720x504 with 1 Axes>"
      ]
     },
     "metadata": {
      "needs_background": "light"
     },
     "output_type": "display_data"
    }
   ],
   "source": [
    "loss = clf.get_loss()\n",
    "plt.figure(figsize = (10, 7))\n",
    "plt.plot(loss, label = 'loss')\n",
    "plt.title(\"Titanic Loss\")\n",
    "plt.legend()\n",
    "plt.grid(alpha = 0.2)\n",
    "plt.show()"
   ]
  },
  {
   "cell_type": "markdown",
   "id": "f7255a20",
   "metadata": {
    "papermill": {
     "duration": 0.011102,
     "end_time": "2022-08-09T09:05:38.675780",
     "exception": false,
     "start_time": "2022-08-09T09:05:38.664678",
     "status": "completed"
    },
    "tags": []
   },
   "source": [
    "# Repeat all operations to test.csv, to get the prediction "
   ]
  },
  {
   "cell_type": "code",
   "execution_count": 28,
   "id": "ade16581",
   "metadata": {
    "execution": {
     "iopub.execute_input": "2022-08-09T09:05:38.701947Z",
     "iopub.status.busy": "2022-08-09T09:05:38.700687Z",
     "iopub.status.idle": "2022-08-09T09:05:38.729736Z",
     "shell.execute_reply": "2022-08-09T09:05:38.728501Z"
    },
    "papermill": {
     "duration": 0.044955,
     "end_time": "2022-08-09T09:05:38.732591",
     "exception": false,
     "start_time": "2022-08-09T09:05:38.687636",
     "status": "completed"
    },
    "tags": []
   },
   "outputs": [],
   "source": [
    "titanic_test = pd.read_csv(\"../input/titanic/test.csv\", index_col='PassengerId')\n",
    "titanic_test['Pclass'] = round(titanic_test['Pclass'] / 3, 3)\n",
    "titanic_test['Sex'] = (titanic_test['Sex'] == 'male').astype(int)\n",
    "titanic_test.loc[titanic_test[\"Embarked\"] == \"S\", \"Embarked\"] = 1\n",
    "titanic_test.loc[titanic_test[\"Embarked\"] == \"C\", \"Embarked\"] = 0.5\n",
    "titanic_test.loc[titanic_test[\"Embarked\"] == \"Q\", \"Embarked\"] = 0\n",
    "titanic_test[\"Fare\"] = round(titanic_test[\"Fare\"] / titanic_test[\"Fare\"].mean(), 3)\n",
    "titanic_test[\"Rich\"] = titanic_test[\"Fare\"] * titanic_test[\"Pclass\"]\n",
    "titanic_test[\"Rich\"] = round(titanic_test[\"Rich\"] / titanic_test[\"Rich\"].max(), 3)\n",
    "titanic_test[\"Age\"] = titanic_test[\"Age\"] / titanic_test[\"Age\"].mean()\n",
    "titanic_test[\"Age\"] = round(titanic_test[\"Age\"] / titanic_test[\"Age\"].max(), 3)\n",
    "titanic_test[\"SibSp\"] = round(titanic_test[\"SibSp\"] / titanic_test[\"SibSp\"].max(), 3)\n",
    "titanic_test[\"Parch\"] = round(titanic_test[\"Parch\"] / titanic_test[\"Parch\"].max(), 3)"
   ]
  },
  {
   "cell_type": "code",
   "execution_count": 29,
   "id": "9a716b4a",
   "metadata": {
    "execution": {
     "iopub.execute_input": "2022-08-09T09:05:38.757663Z",
     "iopub.status.busy": "2022-08-09T09:05:38.757000Z",
     "iopub.status.idle": "2022-08-09T09:05:38.764242Z",
     "shell.execute_reply": "2022-08-09T09:05:38.763347Z"
    },
    "papermill": {
     "duration": 0.022313,
     "end_time": "2022-08-09T09:05:38.766743",
     "exception": false,
     "start_time": "2022-08-09T09:05:38.744430",
     "status": "completed"
    },
    "tags": []
   },
   "outputs": [],
   "source": [
    "X = titanic_test[[\"Sex\", \"Age\", \"Embarked\", \"SibSp\", \"Parch\", \"Rich\"]].to_numpy(float)"
   ]
  },
  {
   "cell_type": "code",
   "execution_count": 30,
   "id": "0b11486b",
   "metadata": {
    "execution": {
     "iopub.execute_input": "2022-08-09T09:05:38.791329Z",
     "iopub.status.busy": "2022-08-09T09:05:38.790552Z",
     "iopub.status.idle": "2022-08-09T09:05:38.795787Z",
     "shell.execute_reply": "2022-08-09T09:05:38.794880Z"
    },
    "papermill": {
     "duration": 0.020327,
     "end_time": "2022-08-09T09:05:38.798187",
     "exception": false,
     "start_time": "2022-08-09T09:05:38.777860",
     "status": "completed"
    },
    "tags": []
   },
   "outputs": [],
   "source": [
    "prediction = clf.predict(X)"
   ]
  },
  {
   "cell_type": "code",
   "execution_count": 31,
   "id": "d3e0a34f",
   "metadata": {
    "execution": {
     "iopub.execute_input": "2022-08-09T09:05:38.823951Z",
     "iopub.status.busy": "2022-08-09T09:05:38.822645Z",
     "iopub.status.idle": "2022-08-09T09:05:38.828842Z",
     "shell.execute_reply": "2022-08-09T09:05:38.827744Z"
    },
    "papermill": {
     "duration": 0.02202,
     "end_time": "2022-08-09T09:05:38.831440",
     "exception": false,
     "start_time": "2022-08-09T09:05:38.809420",
     "status": "completed"
    },
    "tags": []
   },
   "outputs": [],
   "source": [
    "prediction = prediction.astype(int)\n"
   ]
  },
  {
   "cell_type": "code",
   "execution_count": 32,
   "id": "bbb0d772",
   "metadata": {
    "execution": {
     "iopub.execute_input": "2022-08-09T09:05:38.856959Z",
     "iopub.status.busy": "2022-08-09T09:05:38.855709Z",
     "iopub.status.idle": "2022-08-09T09:05:38.862180Z",
     "shell.execute_reply": "2022-08-09T09:05:38.861253Z"
    },
    "papermill": {
     "duration": 0.022018,
     "end_time": "2022-08-09T09:05:38.864816",
     "exception": false,
     "start_time": "2022-08-09T09:05:38.842798",
     "status": "completed"
    },
    "tags": []
   },
   "outputs": [],
   "source": [
    "titanic_test['Survived'] = prediction"
   ]
  },
  {
   "cell_type": "code",
   "execution_count": 33,
   "id": "f0f9dda7",
   "metadata": {
    "execution": {
     "iopub.execute_input": "2022-08-09T09:05:38.890344Z",
     "iopub.status.busy": "2022-08-09T09:05:38.889498Z",
     "iopub.status.idle": "2022-08-09T09:05:38.899687Z",
     "shell.execute_reply": "2022-08-09T09:05:38.898619Z"
    },
    "papermill": {
     "duration": 0.026437,
     "end_time": "2022-08-09T09:05:38.902601",
     "exception": false,
     "start_time": "2022-08-09T09:05:38.876164",
     "status": "completed"
    },
    "tags": []
   },
   "outputs": [],
   "source": [
    "titanic_test[[\"Survived\"]].to_csv(\"/kaggle/working/result.csv\")"
   ]
  }
 ],
 "metadata": {
  "kernelspec": {
   "display_name": "Python 3",
   "language": "python",
   "name": "python3"
  },
  "language_info": {
   "codemirror_mode": {
    "name": "ipython",
    "version": 3
   },
   "file_extension": ".py",
   "mimetype": "text/x-python",
   "name": "python",
   "nbconvert_exporter": "python",
   "pygments_lexer": "ipython3",
   "version": "3.7.12"
  },
  "papermill": {
   "default_parameters": {},
   "duration": 14.336276,
   "end_time": "2022-08-09T09:05:39.636321",
   "environment_variables": {},
   "exception": null,
   "input_path": "__notebook__.ipynb",
   "output_path": "__notebook__.ipynb",
   "parameters": {},
   "start_time": "2022-08-09T09:05:25.300045",
   "version": "2.3.4"
  }
 },
 "nbformat": 4,
 "nbformat_minor": 5
}
